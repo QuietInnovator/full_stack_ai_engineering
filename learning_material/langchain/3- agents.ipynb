{
 "cells": [
  {
   "cell_type": "raw",
   "id": "17546ebb",
   "metadata": {
    "vscode": {
     "languageId": "raw"
    }
   },
   "source": [
    "modified by Chadi Abi Fadel\n"
   ]
  },
  {
   "cell_type": "markdown",
   "id": "1df78a71",
   "metadata": {},
   "source": [
    "# Build an Agent\n",
    "\n",
    "By themselves, language models can't take actions - they just output text.\n",
    "A big use case for LangChain is creating **agents**.\n",
    "[Agents](/docs/concepts/agents) are systems that use [LLMs](/docs/concepts/chat_models) as reasoning engines to determine which actions to take and the inputs necessary to perform the action.\n",
    "After executing actions, the results can be fed back into the LLM to determine whether more actions are needed, or whether it is okay to finish. This is often achieved via [tool-calling](/docs/concepts/tool_calling).\n",
    "\n",
    "In this tutorial we will build an agent that can interact with a search engine. You will be able to ask this agent questions, watch it call the search tool, and have conversations with it.\n",
    "\n",
    "## End-to-end agent\n",
    "\n",
    "The code snippet below represents a fully functional agent that uses an LLM to decide which tools to use. It is equipped with a generic search tool. It has conversational memory - meaning that it can be used as a multi-turn chatbot.\n",
    "\n",
    "In the rest of the guide, we will walk through the individual components and what each part does - but if you want to just grab some code and get started, feel free to use this!"
   ]
  },
  {
   "cell_type": "code",
   "execution_count": 7,
   "id": "86d9386b-442f-4cd6-a78f-57c88249d3f0",
   "metadata": {
    "tags": []
   },
   "outputs": [],
   "source": [
    "import dotenv\n",
    "import os\n",
    "\n",
    "dotenv.load_dotenv()\n",
    "\n",
    "# Import relevant functionality\n",
    "from langchain_openai import ChatOpenAI\n",
    "from langchain_community.tools.tavily_search import TavilySearchResults\n",
    "from langchain_core.messages import HumanMessage\n",
    "from langgraph.checkpoint.memory import MemorySaver\n",
    "from langgraph.prebuilt import create_react_agent\n",
    "\n",
    "# Create the agent\n",
    "memory = MemorySaver()\n",
    "# model = ChatAnthropic(model_name=\"claude-3-sonnet-20240229\")\n",
    "model = ChatOpenAI(model_name='gpt-4o-mini')\n",
    "search = TavilySearchResults(max_results=2)\n",
    "tools = [search]\n",
    "agent_executor = create_react_agent(model, tools, checkpointer=memory)"
   ]
  },
  {
   "cell_type": "code",
   "execution_count": 9,
   "id": "7ab50503-d09f-4ff4-9080-5afe297ccc38",
   "metadata": {
    "tags": []
   },
   "outputs": [
    {
     "name": "stdout",
     "output_type": "stream",
     "text": [
      "================================\u001b[1m Human Message \u001b[0m=================================\n",
      "\n",
      "hi im chadi! and i live in byblos, lebanon\n",
      "==================================\u001b[1m Ai Message \u001b[0m==================================\n",
      "\n",
      "Hi Chadi! It's great to meet you. Byblos is a beautiful city with a rich history. How can I assist you today?\n"
     ]
    }
   ],
   "source": [
    "# Use the agent\n",
    "config = {\"configurable\": {\"thread_id\": \"abc123\"}}\n",
    "for step in agent_executor.stream(\n",
    "    {\"messages\": [HumanMessage(content=\"hi im chadi! and i live in byblos, lebanon\")]},\n",
    "    config,\n",
    "    stream_mode=\"values\",\n",
    "):\n",
    "    step[\"messages\"][-1].pretty_print()"
   ]
  },
  {
   "cell_type": "code",
   "execution_count": 34,
   "id": "fcadb699-3787-4028-a5f6-e5605c8118d4",
   "metadata": {
    "tags": []
   },
   "outputs": [
    {
     "name": "stdout",
     "output_type": "stream",
     "text": [
      "================================\u001b[1m Human Message \u001b[0m=================================\n",
      "\n",
      "whats the weather where I live?\n",
      "==================================\u001b[1m Ai Message \u001b[0m==================================\n",
      "Tool Calls:\n",
      "  tavily_search_results_json (call_iS19TIPJiSSD57eW4EgNBYjw)\n",
      " Call ID: call_iS19TIPJiSSD57eW4EgNBYjw\n",
      "  Args:\n",
      "    query: San Francisco weather\n",
      "=================================\u001b[1m Tool Message \u001b[0m=================================\n",
      "Name: tavily_search_results_json\n",
      "\n",
      "[{\"url\": \"https://www.weather2travel.com/california/san-francisco/september/\", \"content\": \"![](https://www.facebook.com/tr?id=237444546639682&ev=PageView&noscript=1)\\n![weather2travel.com - travel deals for your holiday in the sun](/images/weather2travel-logo.svg)\\n![Click to search](/images/search-white.png)\\n\\n# San Francisco weather in September 2025\\n\\nExpect  **daytime maximum temperatures of 22°C** in **San Francisco, California** in **September** based on long-term weather averages. There are **9 hours of sunshine per day** on average.\"}, {\"url\": \"https://www.easeweather.com/north-america/united-states/california/city-and-county-of-san-francisco/san-francisco/september\", \"content\": \"| [Sept. 6](https://www.easeweather.com/north-america/united-states/california/city-and-county-of-san-francisco/san-francisco/past#day=6&month=9 \\\"The weather in San Francisco on September 6th\\\") | ![Image 45: Sunny](https://res.easeweather.com/images/weather-icons/day/sunny.svg) Sunny | 77°/57° | 0 in | 6 |  | [...] Sunny](https://res.easeweather.com/images/weather-icons/day/sunny.svg) 77°](https://www.easeweather.com/north-america/united-states/california/city-and-county-of-san-francisco/san-francisco/past#day=6&month=9 \\\"Weather for September 6 2025\\\") | [...] | [7 ![Image 16: Sunny](https://res.easeweather.com/images/weather-icons/day/sunny.svg) 73°](https://www.easeweather.com/north-america/united-states/california/city-and-county-of-san-francisco/san-francisco/past#day=7&month=9 \\\"Weather for September 7 2025\\\") | [8 ![Image 17: Sunny](https://res.easeweather.com/images/weather-icons/day/sunny.svg) 75°](https://www.easeweather.com/north-america/united-states/california/city-and-county-of-san-francisco/san-francisco/past#day=8&month=9 \\\"Weather for\"}]\n",
      "==================================\u001b[1m Ai Message \u001b[0m==================================\n",
      "\n",
      "The weather in San Francisco typically features daytime maximum temperatures around 22°C (approximately 72°F) in September. You can expect about 9 hours of sunshine per day. Overall, it's usually sunny and pleasant during this time!\n",
      "\n",
      "If you need more specific or current weather details, let me know!\n"
     ]
    }
   ],
   "source": [
    "for step in agent_executor.stream(\n",
    "    {\"messages\": [HumanMessage(content=\"whats the weather where I live?\")]},\n",
    "    config,\n",
    "    stream_mode=\"values\",\n",
    "):\n",
    "    step[\"messages\"][-1].pretty_print()"
   ]
  },
  {
   "cell_type": "markdown",
   "id": "f4c03f40-1328-412d-8a48-1db0cd481b77",
   "metadata": {},
   "source": [
    "## Setup\n",
    "\n",
    "### Jupyter Notebook\n",
    "\n",
    "This guide (and most of the other guides in the documentation) uses [Jupyter notebooks](https://jupyter.org/) and assumes the reader is as well. Jupyter notebooks are perfect interactive environments for learning how to work with LLM systems because oftentimes things can go wrong (unexpected output, API down, etc), and observing these cases is a great way to better understand building with LLMs.\n",
    "\n",
    "This and other tutorials are perhaps most conveniently run in a Jupyter notebook. See [here](https://jupyter.org/install) for instructions on how to install.\n",
    "\n",
    "### Installation\n",
    "\n",
    "To install LangChain run:"
   ]
  },
  {
   "cell_type": "code",
   "execution_count": 37,
   "id": "60bb3eb1",
   "metadata": {
    "tags": []
   },
   "outputs": [
    {
     "name": "stdout",
     "output_type": "stream",
     "text": [
      "Requirement already satisfied: langchain-community in /opt/anaconda3/lib/python3.11/site-packages (0.3.14)\n",
      "Collecting langchain-community\n",
      "  Using cached langchain_community-0.3.24-py3-none-any.whl.metadata (2.5 kB)\n",
      "Requirement already satisfied: langgraph in /opt/anaconda3/lib/python3.11/site-packages (0.4.5)\n",
      "Collecting langgraph\n",
      "  Downloading langgraph-0.4.8-py3-none-any.whl.metadata (6.8 kB)\n",
      "Requirement already satisfied: langchain-anthropic in /opt/anaconda3/lib/python3.11/site-packages (0.3.12)\n",
      "Collecting langchain-anthropic\n",
      "  Downloading langchain_anthropic-0.3.15-py3-none-any.whl.metadata (1.9 kB)\n",
      "Collecting tavily-python\n",
      "  Downloading tavily_python-0.7.5-py3-none-any.whl.metadata (7.5 kB)\n",
      "Collecting langgraph-checkpoint-sqlite\n",
      "  Downloading langgraph_checkpoint_sqlite-2.0.10-py3-none-any.whl.metadata (2.7 kB)\n",
      "Collecting langchain-core<1.0.0,>=0.3.59 (from langchain-community)\n",
      "  Downloading langchain_core-0.3.64-py3-none-any.whl.metadata (5.8 kB)\n",
      "Collecting langchain<1.0.0,>=0.3.25 (from langchain-community)\n",
      "  Using cached langchain-0.3.25-py3-none-any.whl.metadata (7.8 kB)\n",
      "Requirement already satisfied: SQLAlchemy<3,>=1.4 in /opt/anaconda3/lib/python3.11/site-packages (from langchain-community) (2.0.37)\n",
      "Requirement already satisfied: requests<3,>=2 in /opt/anaconda3/lib/python3.11/site-packages (from langchain-community) (2.32.3)\n",
      "Requirement already satisfied: PyYAML>=5.3 in /opt/anaconda3/lib/python3.11/site-packages (from langchain-community) (6.0.1)\n",
      "Requirement already satisfied: aiohttp<4.0.0,>=3.8.3 in /opt/anaconda3/lib/python3.11/site-packages (from langchain-community) (3.11.11)\n",
      "Requirement already satisfied: tenacity!=8.4.0,<10,>=8.1.0 in /opt/anaconda3/lib/python3.11/site-packages (from langchain-community) (9.1.2)\n",
      "Requirement already satisfied: dataclasses-json<0.7,>=0.5.7 in /opt/anaconda3/lib/python3.11/site-packages (from langchain-community) (0.5.14)\n",
      "Requirement already satisfied: pydantic-settings<3.0.0,>=2.4.0 in /opt/anaconda3/lib/python3.11/site-packages (from langchain-community) (2.7.1)\n",
      "Requirement already satisfied: langsmith<0.4,>=0.1.125 in /opt/anaconda3/lib/python3.11/site-packages (from langchain-community) (0.1.137)\n",
      "Requirement already satisfied: httpx-sse<1.0.0,>=0.4.0 in /opt/anaconda3/lib/python3.11/site-packages (from langchain-community) (0.4.0)\n",
      "Requirement already satisfied: numpy>=1.26.2 in /opt/anaconda3/lib/python3.11/site-packages (from langchain-community) (1.26.4)\n",
      "Requirement already satisfied: langgraph-checkpoint>=2.0.26 in /opt/anaconda3/lib/python3.11/site-packages (from langgraph) (2.0.26)\n",
      "Collecting langgraph-prebuilt>=0.2.0 (from langgraph)\n",
      "  Downloading langgraph_prebuilt-0.2.2-py3-none-any.whl.metadata (4.5 kB)\n",
      "Requirement already satisfied: langgraph-sdk>=0.1.42 in /opt/anaconda3/lib/python3.11/site-packages (from langgraph) (0.1.69)\n",
      "Requirement already satisfied: pydantic>=2.7.4 in /opt/anaconda3/lib/python3.11/site-packages (from langgraph) (2.11.4)\n",
      "Requirement already satisfied: xxhash>=3.5.0 in /opt/anaconda3/lib/python3.11/site-packages (from langgraph) (3.5.0)\n",
      "Collecting anthropic<1,>=0.52.0 (from langchain-anthropic)\n",
      "  Downloading anthropic-0.53.0-py3-none-any.whl.metadata (25 kB)\n",
      "Requirement already satisfied: tiktoken>=0.5.1 in /opt/anaconda3/lib/python3.11/site-packages (from tavily-python) (0.7.0)\n",
      "Requirement already satisfied: httpx in /opt/anaconda3/lib/python3.11/site-packages (from tavily-python) (0.28.1)\n",
      "Collecting aiosqlite>=0.20 (from langgraph-checkpoint-sqlite)\n",
      "  Downloading aiosqlite-0.21.0-py3-none-any.whl.metadata (4.3 kB)\n",
      "Collecting sqlite-vec>=0.1.6 (from langgraph-checkpoint-sqlite)\n",
      "  Downloading sqlite_vec-0.1.6-py3-none-macosx_11_0_arm64.whl.metadata (198 bytes)\n",
      "Requirement already satisfied: aiohappyeyeballs>=2.3.0 in /opt/anaconda3/lib/python3.11/site-packages (from aiohttp<4.0.0,>=3.8.3->langchain-community) (2.4.2)\n",
      "Requirement already satisfied: aiosignal>=1.1.2 in /opt/anaconda3/lib/python3.11/site-packages (from aiohttp<4.0.0,>=3.8.3->langchain-community) (1.2.0)\n",
      "Requirement already satisfied: attrs>=17.3.0 in /opt/anaconda3/lib/python3.11/site-packages (from aiohttp<4.0.0,>=3.8.3->langchain-community) (24.3.0)\n",
      "Requirement already satisfied: frozenlist>=1.1.1 in /opt/anaconda3/lib/python3.11/site-packages (from aiohttp<4.0.0,>=3.8.3->langchain-community) (1.4.0)\n",
      "Requirement already satisfied: multidict<7.0,>=4.5 in /opt/anaconda3/lib/python3.11/site-packages (from aiohttp<4.0.0,>=3.8.3->langchain-community) (6.0.4)\n",
      "Requirement already satisfied: propcache>=0.2.0 in /opt/anaconda3/lib/python3.11/site-packages (from aiohttp<4.0.0,>=3.8.3->langchain-community) (0.2.1)\n",
      "Requirement already satisfied: yarl<2.0,>=1.17.0 in /opt/anaconda3/lib/python3.11/site-packages (from aiohttp<4.0.0,>=3.8.3->langchain-community) (1.18.3)\n",
      "Requirement already satisfied: typing_extensions>=4.0 in /opt/anaconda3/lib/python3.11/site-packages (from aiosqlite>=0.20->langgraph-checkpoint-sqlite) (4.12.2)\n",
      "Requirement already satisfied: anyio<5,>=3.5.0 in /opt/anaconda3/lib/python3.11/site-packages (from anthropic<1,>=0.52.0->langchain-anthropic) (4.9.0)\n",
      "Requirement already satisfied: distro<2,>=1.7.0 in /opt/anaconda3/lib/python3.11/site-packages (from anthropic<1,>=0.52.0->langchain-anthropic) (1.8.0)\n",
      "Requirement already satisfied: jiter<1,>=0.4.0 in /opt/anaconda3/lib/python3.11/site-packages (from anthropic<1,>=0.52.0->langchain-anthropic) (0.8.2)\n",
      "Requirement already satisfied: sniffio in /opt/anaconda3/lib/python3.11/site-packages (from anthropic<1,>=0.52.0->langchain-anthropic) (1.3.0)\n",
      "Requirement already satisfied: marshmallow<4.0.0,>=3.18.0 in /opt/anaconda3/lib/python3.11/site-packages (from dataclasses-json<0.7,>=0.5.7->langchain-community) (3.22.0)\n",
      "Requirement already satisfied: typing-inspect<1,>=0.4.0 in /opt/anaconda3/lib/python3.11/site-packages (from dataclasses-json<0.7,>=0.5.7->langchain-community) (0.9.0)\n",
      "Requirement already satisfied: certifi in /opt/anaconda3/lib/python3.11/site-packages (from httpx->tavily-python) (2024.2.2)\n",
      "Requirement already satisfied: httpcore==1.* in /opt/anaconda3/lib/python3.11/site-packages (from httpx->tavily-python) (1.0.2)\n",
      "Requirement already satisfied: idna in /opt/anaconda3/lib/python3.11/site-packages (from httpx->tavily-python) (3.10)\n",
      "Requirement already satisfied: h11<0.15,>=0.13 in /opt/anaconda3/lib/python3.11/site-packages (from httpcore==1.*->httpx->tavily-python) (0.14.0)\n",
      "Collecting langchain-text-splitters<1.0.0,>=0.3.8 (from langchain<1.0.0,>=0.3.25->langchain-community)\n",
      "  Using cached langchain_text_splitters-0.3.8-py3-none-any.whl.metadata (1.9 kB)\n",
      "Collecting langsmith<0.4,>=0.1.125 (from langchain-community)\n",
      "  Downloading langsmith-0.3.45-py3-none-any.whl.metadata (15 kB)\n",
      "Requirement already satisfied: jsonpatch<2.0,>=1.33 in /opt/anaconda3/lib/python3.11/site-packages (from langchain-core<1.0.0,>=0.3.59->langchain-community) (1.33)\n",
      "Requirement already satisfied: packaging<25,>=23.2 in /opt/anaconda3/lib/python3.11/site-packages (from langchain-core<1.0.0,>=0.3.59->langchain-community) (23.2)\n",
      "Requirement already satisfied: ormsgpack<2.0.0,>=1.8.0 in /opt/anaconda3/lib/python3.11/site-packages (from langgraph-checkpoint>=2.0.26->langgraph) (1.9.1)\n",
      "Requirement already satisfied: orjson>=3.10.1 in /opt/anaconda3/lib/python3.11/site-packages (from langgraph-sdk>=0.1.42->langgraph) (3.10.7)\n",
      "Requirement already satisfied: requests-toolbelt<2.0.0,>=1.0.0 in /opt/anaconda3/lib/python3.11/site-packages (from langsmith<0.4,>=0.1.125->langchain-community) (1.0.0)\n",
      "Collecting zstandard<0.24.0,>=0.23.0 (from langsmith<0.4,>=0.1.125->langchain-community)\n",
      "  Downloading zstandard-0.23.0-cp311-cp311-macosx_11_0_arm64.whl.metadata (3.0 kB)\n",
      "Requirement already satisfied: annotated-types>=0.6.0 in /opt/anaconda3/lib/python3.11/site-packages (from pydantic>=2.7.4->langgraph) (0.7.0)\n",
      "Requirement already satisfied: pydantic-core==2.33.2 in /opt/anaconda3/lib/python3.11/site-packages (from pydantic>=2.7.4->langgraph) (2.33.2)\n",
      "Requirement already satisfied: typing-inspection>=0.4.0 in /opt/anaconda3/lib/python3.11/site-packages (from pydantic>=2.7.4->langgraph) (0.4.0)\n",
      "Requirement already satisfied: python-dotenv>=0.21.0 in /opt/anaconda3/lib/python3.11/site-packages (from pydantic-settings<3.0.0,>=2.4.0->langchain-community) (1.0.1)\n",
      "Requirement already satisfied: charset-normalizer<4,>=2 in /opt/anaconda3/lib/python3.11/site-packages (from requests<3,>=2->langchain-community) (3.3.2)\n",
      "Requirement already satisfied: urllib3<3,>=1.21.1 in /opt/anaconda3/lib/python3.11/site-packages (from requests<3,>=2->langchain-community) (2.0.7)\n",
      "Requirement already satisfied: regex>=2022.1.18 in /opt/anaconda3/lib/python3.11/site-packages (from tiktoken>=0.5.1->tavily-python) (2024.11.6)\n",
      "Requirement already satisfied: jsonpointer>=1.9 in /opt/anaconda3/lib/python3.11/site-packages (from jsonpatch<2.0,>=1.33->langchain-core<1.0.0,>=0.3.59->langchain-community) (2.1)\n",
      "Requirement already satisfied: mypy-extensions>=0.3.0 in /opt/anaconda3/lib/python3.11/site-packages (from typing-inspect<1,>=0.4.0->dataclasses-json<0.7,>=0.5.7->langchain-community) (1.0.0)\n",
      "Using cached langchain_community-0.3.24-py3-none-any.whl (2.5 MB)\n",
      "Downloading langgraph-0.4.8-py3-none-any.whl (152 kB)\n",
      "\u001b[2K   \u001b[90m━━━━━━━━━━━━━━━━━━━━━━━━━━━━━━━━━━━━━━━\u001b[0m \u001b[32m152.4/152.4 kB\u001b[0m \u001b[31m359.3 kB/s\u001b[0m eta \u001b[36m0:00:00\u001b[0ma \u001b[36m0:00:01\u001b[0m\n",
      "\u001b[?25hDownloading langchain_anthropic-0.3.15-py3-none-any.whl (28 kB)\n",
      "Downloading tavily_python-0.7.5-py3-none-any.whl (15 kB)\n",
      "Downloading langgraph_checkpoint_sqlite-2.0.10-py3-none-any.whl (30 kB)\n",
      "Downloading aiosqlite-0.21.0-py3-none-any.whl (15 kB)\n",
      "Downloading anthropic-0.53.0-py3-none-any.whl (287 kB)\n",
      "\u001b[2K   \u001b[90m━━━━━━━━━━━━━━━━━━━━━━━━━━━━━━━━━━━━━━━\u001b[0m \u001b[32m287.2/287.2 kB\u001b[0m \u001b[31m366.6 kB/s\u001b[0m eta \u001b[36m0:00:00\u001b[0ma \u001b[36m0:00:01\u001b[0m\n",
      "\u001b[?25hUsing cached langchain-0.3.25-py3-none-any.whl (1.0 MB)\n",
      "Downloading langchain_core-0.3.64-py3-none-any.whl (438 kB)\n",
      "\u001b[2K   \u001b[90m━━━━━━━━━━━━━━━━━━━━━━━━━━━━━━━━━━━━━━━\u001b[0m \u001b[32m438.1/438.1 kB\u001b[0m \u001b[31m364.8 kB/s\u001b[0m eta \u001b[36m0:00:00\u001b[0ma \u001b[36m0:00:01\u001b[0m\n",
      "\u001b[?25hDownloading langgraph_prebuilt-0.2.2-py3-none-any.whl (23 kB)\n",
      "Downloading langsmith-0.3.45-py3-none-any.whl (363 kB)\n",
      "\u001b[2K   \u001b[90m━━━━━━━━━━━━━━━━━━━━━━━━━━━━━━━━━━━━━━━\u001b[0m \u001b[32m363.0/363.0 kB\u001b[0m \u001b[31m360.7 kB/s\u001b[0m eta \u001b[36m0:00:00\u001b[0ma \u001b[36m0:00:01\u001b[0m\n",
      "\u001b[?25hDownloading sqlite_vec-0.1.6-py3-none-macosx_11_0_arm64.whl (165 kB)\n",
      "\u001b[2K   \u001b[90m━━━━━━━━━━━━━━━━━━━━━━━━━━━━━━━━━━━━━━━\u001b[0m \u001b[32m165.2/165.2 kB\u001b[0m \u001b[31m372.8 kB/s\u001b[0m eta \u001b[36m0:00:00\u001b[0m00:01\u001b[0m00:01\u001b[0m\n",
      "\u001b[?25hUsing cached langchain_text_splitters-0.3.8-py3-none-any.whl (32 kB)\n",
      "Downloading zstandard-0.23.0-cp311-cp311-macosx_11_0_arm64.whl (633 kB)\n",
      "\u001b[2K   \u001b[90m━━━━━━━━━━━━━━━━━━━━━━━━━━━━━━━━━━━━━━━\u001b[0m \u001b[32m633.7/633.7 kB\u001b[0m \u001b[31m363.9 kB/s\u001b[0m eta \u001b[36m0:00:00\u001b[0ma \u001b[36m0:00:01\u001b[0m\n",
      "\u001b[?25hInstalling collected packages: sqlite-vec, zstandard, aiosqlite, tavily-python, langsmith, anthropic, langchain-core, langchain-text-splitters, langchain-anthropic, langgraph-prebuilt, langgraph-checkpoint-sqlite, langchain, langgraph, langchain-community\n",
      "  Attempting uninstall: zstandard\n",
      "    Found existing installation: zstandard 0.19.0\n",
      "    Uninstalling zstandard-0.19.0:\n",
      "      Successfully uninstalled zstandard-0.19.0\n",
      "  Attempting uninstall: aiosqlite\n",
      "    Found existing installation: aiosqlite 0.18.0\n",
      "    Uninstalling aiosqlite-0.18.0:\n",
      "      Successfully uninstalled aiosqlite-0.18.0\n",
      "  Attempting uninstall: langsmith\n",
      "    Found existing installation: langsmith 0.1.137\n",
      "    Uninstalling langsmith-0.1.137:\n",
      "      Successfully uninstalled langsmith-0.1.137\n",
      "  Attempting uninstall: anthropic\n",
      "    Found existing installation: anthropic 0.50.0\n",
      "    Uninstalling anthropic-0.50.0:\n",
      "      Successfully uninstalled anthropic-0.50.0\n",
      "  Attempting uninstall: langchain-core\n",
      "    Found existing installation: langchain-core 0.3.58\n",
      "    Uninstalling langchain-core-0.3.58:\n",
      "      Successfully uninstalled langchain-core-0.3.58\n",
      "  Attempting uninstall: langchain-text-splitters\n",
      "    Found existing installation: langchain-text-splitters 0.3.6\n",
      "    Uninstalling langchain-text-splitters-0.3.6:\n",
      "      Successfully uninstalled langchain-text-splitters-0.3.6\n",
      "  Attempting uninstall: langchain-anthropic\n",
      "    Found existing installation: langchain-anthropic 0.3.12\n",
      "    Uninstalling langchain-anthropic-0.3.12:\n",
      "      Successfully uninstalled langchain-anthropic-0.3.12\n",
      "  Attempting uninstall: langgraph-prebuilt\n",
      "    Found existing installation: langgraph-prebuilt 0.1.8\n",
      "    Uninstalling langgraph-prebuilt-0.1.8:\n",
      "      Successfully uninstalled langgraph-prebuilt-0.1.8\n",
      "  Attempting uninstall: langchain\n",
      "    Found existing installation: langchain 0.3.18\n",
      "    Uninstalling langchain-0.3.18:\n",
      "      Successfully uninstalled langchain-0.3.18\n",
      "  Attempting uninstall: langgraph\n",
      "    Found existing installation: langgraph 0.4.5\n",
      "    Uninstalling langgraph-0.4.5:\n",
      "      Successfully uninstalled langgraph-0.4.5\n",
      "  Attempting uninstall: langchain-community\n",
      "    Found existing installation: langchain-community 0.3.14\n",
      "    Uninstalling langchain-community-0.3.14:\n",
      "      Successfully uninstalled langchain-community-0.3.14\n",
      "\u001b[31mERROR: pip's dependency resolver does not currently take into account all the packages that are installed. This behaviour is the source of the following dependency conflicts.\n",
      "embedchain 0.1.126 requires langsmith<0.2.0,>=0.1.17, but you have langsmith 0.3.45 which is incompatible.\n",
      "langchain-chroma 0.1.2 requires langchain-core<0.3,>=0.1.40, but you have langchain-core 0.3.64 which is incompatible.\n",
      "open-webui 0.3.30 requires aiohttp==3.10.5, but you have aiohttp 3.11.11 which is incompatible.\n",
      "open-webui 0.3.30 requires authlib==1.3.2, but you have authlib 1.3.1 which is incompatible.\n",
      "open-webui 0.3.30 requires boto3==1.35.0, but you have boto3 1.37.13 which is incompatible.\n",
      "open-webui 0.3.30 requires chromadb==0.5.5, but you have chromadb 0.5.23 which is incompatible.\n",
      "open-webui 0.3.30 requires fastapi==0.111.0, but you have fastapi 0.115.8 which is incompatible.\n",
      "open-webui 0.3.30 requires google-generativeai==0.7.2, but you have google-generativeai 0.8.5 which is incompatible.\n",
      "open-webui 0.3.30 requires langchain==0.2.15, but you have langchain 0.3.25 which is incompatible.\n",
      "open-webui 0.3.30 requires langchain-community==0.2.12, but you have langchain-community 0.3.24 which is incompatible.\n",
      "open-webui 0.3.30 requires pydantic==2.8.2, but you have pydantic 2.11.4 which is incompatible.\n",
      "open-webui 0.3.30 requires pypdf==4.3.1, but you have pypdf 5.1.0 which is incompatible.\n",
      "open-webui 0.3.30 requires python-multipart==0.0.9, but you have python-multipart 0.0.18 which is incompatible.\n",
      "open-webui 0.3.30 requires sqlalchemy==2.0.32, but you have sqlalchemy 2.0.37 which is incompatible.\n",
      "open-webui 0.3.30 requires uvicorn[standard]==0.30.6, but you have uvicorn 0.34.0 which is incompatible.\n",
      "open-webui 0.3.30 requires validators==0.33.0, but you have validators 0.34.0 which is incompatible.\u001b[0m\u001b[31m\n",
      "\u001b[0mSuccessfully installed aiosqlite-0.21.0 anthropic-0.53.0 langchain-0.3.25 langchain-anthropic-0.3.15 langchain-community-0.3.24 langchain-core-0.3.64 langchain-text-splitters-0.3.8 langgraph-0.4.8 langgraph-checkpoint-sqlite-2.0.10 langgraph-prebuilt-0.2.2 langsmith-0.3.45 sqlite-vec-0.1.6 tavily-python-0.7.5 zstandard-0.23.0\n",
      "Note: you may need to restart the kernel to use updated packages.\n"
     ]
    }
   ],
   "source": [
    "%pip install -U langchain-community langgraph langchain-anthropic tavily-python langgraph-checkpoint-sqlite"
   ]
  },
  {
   "cell_type": "markdown",
   "id": "2ee337ae",
   "metadata": {},
   "source": [
    "For more details, see our [Installation guide](/docs/how_to/installation).\n",
    "\n",
    "### LangSmith\n",
    "\n",
    "Many of the applications you build with LangChain will contain multiple steps with multiple invocations of LLM calls.\n",
    "As these applications get more and more complex, it becomes crucial to be able to inspect what exactly is going on inside your chain or agent.\n",
    "The best way to do this is with [LangSmith](https://smith.langchain.com).\n",
    "\n",
    "After you sign up at the link above, make sure to set your environment variables to start logging traces:\n",
    "\n",
    "```shell\n",
    "export LANGSMITH_TRACING=\"true\"\n",
    "export LANGSMITH_API_KEY=\"...\"\n",
    "```\n",
    "\n",
    "Or, if in a notebook, you can set them with:\n",
    "\n",
    "```python\n",
    "import getpass\n",
    "import os\n",
    "\n",
    "os.environ[\"LANGSMITH_TRACING\"] = \"true\"\n",
    "os.environ[\"LANGSMITH_API_KEY\"] = getpass.getpass()\n",
    "```\n",
    "\n",
    "### Tavily\n",
    "\n",
    "We will be using [Tavily](/docs/integrations/tools/tavily_search) (a search engine) as a tool.\n",
    "In order to use it, you will need to get and set an API key:\n",
    "\n",
    "```bash\n",
    "export TAVILY_API_KEY=\"...\"\n",
    "```\n",
    "\n",
    "Or, if in a notebook, you can set it with:\n",
    "\n",
    "```python\n",
    "import getpass\n",
    "import os\n",
    "\n",
    "os.environ[\"TAVILY_API_KEY\"] = getpass.getpass()\n",
    "```"
   ]
  },
  {
   "cell_type": "markdown",
   "id": "c335d1bf",
   "metadata": {},
   "source": [
    "## Define tools\n",
    "\n",
    "We first need to create the tools we want to use. Our main tool of choice will be [Tavily](/docs/integrations/tools/tavily_search) - a search engine. We have a built-in tool in LangChain to easily use Tavily search engine as tool.\n"
   ]
  },
  {
   "cell_type": "code",
   "execution_count": 41,
   "id": "002e23b1-fdf9-46e9-82d9-f467abdd3f35",
   "metadata": {
    "tags": []
   },
   "outputs": [
    {
     "name": "stdout",
     "output_type": "stream",
     "text": [
      "[{'url': 'https://www.weather2travel.com/california/san-francisco/september/', 'content': '![](https://www.facebook.com/tr?id=237444546639682&ev=PageView&noscript=1)\\n![weather2travel.com - travel deals for your holiday in the sun](/images/weather2travel-logo.svg)\\n![Click to search](/images/search-white.png)\\n\\n# San Francisco weather in September 2025\\n\\nExpect  **daytime maximum temperatures of 22°C** in **San Francisco, California** in **September** based on long-term weather averages. There are **9 hours of sunshine per day** on average. [...] ![12 hours of daylight per day in September in San Francisco](/images_symbols/daylight12.png)\\n![No heat & humidity in September in San Francisco](/images_symbols/heathumidity0.png)\\n![7 mm monthly rainfall in September in San Francisco](/images_symbols/rainfall1.png)\\n![UV (maximum) index 7 (High) in September in San Francisco](/images_symbols/uv5.png)\\n![14°C sea temperature in September in San Francisco](/images_symbols/sea-temperature6.png) [...] ![22°C maximum daytime temperature in September in San Francisco](/images_symbols/temperature12.png)\\n![9 hours of sunshine per day (73% of daylight hours) in September in San Francisco](/images_symbols/sunshine9.png)\\n![2 days with some rainfall in September in San Francisco](/images_symbols/rainydays1.png)\\n![13°C minimum night-time temperature in September in San Francisco](/images_symbols/temperature9.png)'}, {'url': 'https://www.weather25.com/north-america/usa/california/san-francisco?page=month&month=September', 'content': 'The **temperatures in San Francisco in September are comfortable** with low of 14°C and and high up to 25°C.\\n\\nThere is little to no rain in San Francisco during September, so it’s a lot easier to explore the city. Just remember to dress in warm layers, as it can still get pretty chilly.\\n\\nOur weather forecast can give you a great sense of what weather to expect in **San Francisco in September 2025**. [...] | [7 ![Image 20: Partly cloudy](https://res.weather25.com/images/weather_icons/new/day/interval.svg) 22°/15°](https://www.weather25.com/north-america/usa/california/san-francisco?page=past-weather#day=7&month=9 \"Weather in 7 september 2025\") | [8 ![Image 21: Sunny](https://res.weather25.com/images/weather_icons/new/day/sunny.svg) 24°/15°](https://www.weather25.com/north-america/usa/california/san-francisco?page=past-weather#day=8&month=9 \"Weather in 8 september 2025\") | [9 ![Image 22: [...] Sunny](https://res.weather25.com/images/weather_icons/new/day/sunny.svg) 22°/14°](https://www.weather25.com/north-america/usa/california/san-francisco?page=past-weather#day=9&month=9 \"Weather in 9 september 2025\") | [10 ![Image 23: Partly cloudy](https://res.weather25.com/images/weather_icons/new/day/interval.svg) 20°/14°](https://www.weather25.com/north-america/usa/california/san-francisco?page=past-weather#day=10&month=9 \"Weather in 10 september 2025\") | [11 ![Image 24:'}]\n"
     ]
    }
   ],
   "source": [
    "from langchain_community.tools.tavily_search import TavilySearchResults\n",
    "\n",
    "search = TavilySearchResults(max_results=2)\n",
    "search_results = search.invoke(\"what is the weather in SF\")\n",
    "print(search_results)\n",
    "# If we want, we can create other tools.\n",
    "# Once we have all the tools we want, we can put them in a list that we will reference later.\n",
    "tools = [search]"
   ]
  },
  {
   "cell_type": "markdown",
   "id": "e00068b0",
   "metadata": {},
   "source": [
    "## Using Language Models\n",
    "\n",
    "Next, let's learn how to use a language model to call tools. LangChain supports many different language models that you can use interchangably - select the one you want to use below!\n",
    "\n",
    "import ChatModelTabs from \"@theme/ChatModelTabs\";\n",
    "\n",
    "<ChatModelTabs overrideParams={{openai: {model: \"gpt-4\"}}} />\n"
   ]
  },
  {
   "cell_type": "code",
   "execution_count": 3,
   "id": "69185491",
   "metadata": {},
   "outputs": [],
   "source": [
    "# | output: false\n",
    "# | echo: false\n",
    "\n",
    "from langchain_anthropic import ChatAnthropic\n",
    "\n",
    "model = ChatAnthropic(model=\"claude-3-sonnet-20240229\")"
   ]
  },
  {
   "cell_type": "markdown",
   "id": "642ed8bf",
   "metadata": {},
   "source": [
    "You can call the language model by passing in a list of messages. By default, the response is a `content` string."
   ]
  },
  {
   "cell_type": "code",
   "execution_count": 44,
   "id": "c96c960b",
   "metadata": {
    "tags": []
   },
   "outputs": [
    {
     "data": {
      "text/plain": [
       "'Hello! How can I assist you today?'"
      ]
     },
     "execution_count": 44,
     "metadata": {},
     "output_type": "execute_result"
    }
   ],
   "source": [
    "from langchain_core.messages import HumanMessage\n",
    "\n",
    "response = model.invoke([HumanMessage(content=\"hi!\")])\n",
    "response.content"
   ]
  },
  {
   "cell_type": "markdown",
   "id": "47bf8210",
   "metadata": {},
   "source": [
    "We can now see what it is like to enable this model to do tool calling. In order to enable that we use `.bind_tools` to give the language model knowledge of these tools"
   ]
  },
  {
   "cell_type": "code",
   "execution_count": 47,
   "id": "ba692a74",
   "metadata": {
    "tags": []
   },
   "outputs": [],
   "source": [
    "model_with_tools = model.bind_tools(tools)"
   ]
  },
  {
   "cell_type": "markdown",
   "id": "fd920b69",
   "metadata": {},
   "source": [
    "We can now call the model. Let's first call it with a normal message, and see how it responds. We can look at both the `content` field as well as the `tool_calls` field."
   ]
  },
  {
   "cell_type": "code",
   "execution_count": 50,
   "id": "b6a7e925",
   "metadata": {
    "tags": []
   },
   "outputs": [
    {
     "name": "stdout",
     "output_type": "stream",
     "text": [
      "ContentString: Hello! How can I assist you today?\n",
      "ToolCalls: []\n"
     ]
    }
   ],
   "source": [
    "response = model_with_tools.invoke([HumanMessage(content=\"Hi!\")])\n",
    "\n",
    "print(f\"ContentString: {response.content}\")\n",
    "print(f\"ToolCalls: {response.tool_calls}\")"
   ]
  },
  {
   "cell_type": "markdown",
   "id": "e8c81e76",
   "metadata": {},
   "source": [
    "Now, let's try calling it with some input that would expect a tool to be called."
   ]
  },
  {
   "cell_type": "code",
   "execution_count": 56,
   "id": "688b465d",
   "metadata": {
    "tags": []
   },
   "outputs": [
    {
     "name": "stdout",
     "output_type": "stream",
     "text": [
      "ContentString: \n",
      "ToolCalls: [{'name': 'tavily_search_results_json', 'args': {'query': 'San Francisco weather'}, 'id': 'call_ZRezRxAxpsnjkI1b2KC5mEUq', 'type': 'tool_call'}]\n"
     ]
    }
   ],
   "source": [
    "response = model_with_tools.invoke([HumanMessage(content=\"What's the weather in SF?\")])\n",
    "\n",
    "print(f\"ContentString: {response.content}\")\n",
    "print(f\"ToolCalls: {response.tool_calls}\")"
   ]
  },
  {
   "cell_type": "markdown",
   "id": "83c4bcd3",
   "metadata": {},
   "source": [
    "We can see that there's now no text content, but there is a tool call! It wants us to call the Tavily Search tool.\n",
    "\n",
    "This isn't calling that tool yet - it's just telling us to. In order to actually call it, we'll want to create our agent."
   ]
  },
  {
   "cell_type": "markdown",
   "id": "40ccec80",
   "metadata": {},
   "source": [
    "## Create the agent\n",
    "\n",
    "Now that we have defined the tools and the LLM, we can create the agent. We will be using [LangGraph](/docs/concepts/architecture/#langgraph) to construct the agent. \n",
    "Currently, we are using a high level interface to construct the agent, but the nice thing about LangGraph is that this high-level interface is backed by a low-level, highly controllable API in case you want to modify the agent logic.\n"
   ]
  },
  {
   "cell_type": "markdown",
   "id": "f8014c9d",
   "metadata": {},
   "source": [
    "Now, we can initialize the agent with the LLM and the tools.\n",
    "\n",
    "Note that we are passing in the `model`, not `model_with_tools`. That is because `create_react_agent` will call `.bind_tools` for us under the hood."
   ]
  },
  {
   "cell_type": "code",
   "execution_count": 61,
   "id": "89cf72b4-6046-4b47-8f27-5522d8cb8036",
   "metadata": {
    "tags": []
   },
   "outputs": [],
   "source": [
    "from langgraph.prebuilt import create_react_agent\n",
    "\n",
    "agent_executor = create_react_agent(model, tools)"
   ]
  },
  {
   "cell_type": "markdown",
   "id": "e4df0e06",
   "metadata": {},
   "source": [
    "## Run the agent\n",
    "\n",
    "We can now run the agent with a few queries! Note that for now, these are all **stateless** queries (it won't remember previous interactions). Note that the agent will return the **final** state at the end of the interaction (which includes any inputs, we will see later on how to get only the outputs).\n",
    "\n",
    "First up, let's see how it responds when there's no need to call a tool:"
   ]
  },
  {
   "cell_type": "code",
   "execution_count": 64,
   "id": "114ba50d",
   "metadata": {
    "tags": []
   },
   "outputs": [
    {
     "data": {
      "text/plain": [
       "[HumanMessage(content='hi!', additional_kwargs={}, response_metadata={}, id='0157db79-ce15-4831-adc5-7e5cbc71121b'),\n",
       " AIMessage(content='Hello! How can I assist you today?', additional_kwargs={'refusal': None}, response_metadata={'token_usage': {'completion_tokens': 10, 'prompt_tokens': 81, 'total_tokens': 91, 'completion_tokens_details': {'accepted_prediction_tokens': 0, 'audio_tokens': 0, 'reasoning_tokens': 0, 'rejected_prediction_tokens': 0}, 'prompt_tokens_details': {'audio_tokens': 0, 'cached_tokens': 0}}, 'model_name': 'gpt-4o-mini-2024-07-18', 'system_fingerprint': 'fp_34a54ae93c', 'finish_reason': 'stop', 'logprobs': None}, id='run--2a494a22-6a02-4d02-86f5-089ad6a79609-0', usage_metadata={'input_tokens': 81, 'output_tokens': 10, 'total_tokens': 91, 'input_token_details': {'audio': 0, 'cache_read': 0}, 'output_token_details': {'audio': 0, 'reasoning': 0}})]"
      ]
     },
     "execution_count": 64,
     "metadata": {},
     "output_type": "execute_result"
    }
   ],
   "source": [
    "response = agent_executor.invoke({\"messages\": [HumanMessage(content=\"hi!\")]})\n",
    "\n",
    "response[\"messages\"]"
   ]
  },
  {
   "cell_type": "markdown",
   "id": "71493a42",
   "metadata": {},
   "source": [
    "In order to see exactly what is happening under the hood (and to make sure it's not calling a tool) we can take a look at the [LangSmith trace](https://smith.langchain.com/public/28311faa-e135-4d6a-ab6b-caecf6482aaa/r)\n",
    "\n",
    "Let's now try it out on an example where it should be invoking the tool"
   ]
  },
  {
   "cell_type": "code",
   "execution_count": 67,
   "id": "77c2f769",
   "metadata": {
    "tags": []
   },
   "outputs": [
    {
     "data": {
      "text/plain": [
       "[HumanMessage(content='whats the weather in sf?', additional_kwargs={}, response_metadata={}, id='2a3fee30-0c74-4d01-8cbd-2d0cd9b794f8'),\n",
       " AIMessage(content='', additional_kwargs={'tool_calls': [{'id': 'call_XymmZmZ4yygePl4OxjzNptCU', 'function': {'arguments': '{\"query\":\"current weather in San Francisco\"}', 'name': 'tavily_search_results_json'}, 'type': 'function'}], 'refusal': None}, response_metadata={'token_usage': {'completion_tokens': 22, 'prompt_tokens': 86, 'total_tokens': 108, 'completion_tokens_details': {'accepted_prediction_tokens': 0, 'audio_tokens': 0, 'reasoning_tokens': 0, 'rejected_prediction_tokens': 0}, 'prompt_tokens_details': {'audio_tokens': 0, 'cached_tokens': 0}}, 'model_name': 'gpt-4o-mini-2024-07-18', 'system_fingerprint': 'fp_34a54ae93c', 'finish_reason': 'tool_calls', 'logprobs': None}, id='run--b9eaab50-8785-4e9b-820e-81dbd065b0fa-0', tool_calls=[{'name': 'tavily_search_results_json', 'args': {'query': 'current weather in San Francisco'}, 'id': 'call_XymmZmZ4yygePl4OxjzNptCU', 'type': 'tool_call'}], usage_metadata={'input_tokens': 86, 'output_tokens': 22, 'total_tokens': 108, 'input_token_details': {'audio': 0, 'cache_read': 0}, 'output_token_details': {'audio': 0, 'reasoning': 0}}),\n",
       " ToolMessage(content='[{\"url\": \"https://www.weather25.com/north-america/usa/california/san-francisco?page=month&month=September\", \"content\": \"# San Francisco weather in September 2025\\\\n\\\\nThe **temperatures in San Francisco in September are comfortable** with low of 14°C and and high up to 25°C.\\\\n\\\\nThere is little to no rain in San Francisco during September, so it’s a lot easier to explore the city. Just remember to dress in warm layers, as it can still get pretty chilly.\\\\n\\\\nOur weather forecast can give you a great sense of what weather to expect in **San Francisco in September 2025**. [...] | [7 Partly cloudy 22° /15°](https://www.weather25.com/north-america/usa/california/san-francisco?page=past-weather#day=7&month=9 \\\\\"Weather in 7 september 2025\\\\\") | [8 Sunny 24° /15°](https://www.weather25.com/north-america/usa/california/san-francisco?page=past-weather#day=8&month=9 \\\\\"Weather in 8 september 2025\\\\\") | [9 Sunny 22° /14°](https://www.weather25.com/north-america/usa/california/san-francisco?page=past-weather#day=9&month=9 \\\\\"Weather in 9 september 2025\\\\\") | [10 Partly cloudy 20° [...] ![Partly cloudy]( \\\\\"Partly cloudy\\\\\")\\\\n![Sunny]( \\\\\"Sunny\\\\\")\\\\n![Mist]( \\\\\"Mist\\\\\")\\\\n![Partly cloudy]( \\\\\"Partly cloudy\\\\\")\\\\n![Partly cloudy]( \\\\\"Partly cloudy\\\\\")\\\\n![Cloudy]( \\\\\"Cloudy\\\\\")\\\\n![Sunny]( \\\\\"Sunny\\\\\")\\\\n![Partly cloudy]( \\\\\"Partly cloudy\\\\\")\\\\n![Sunny]( \\\\\"Sunny\\\\\")\"}]', name='tavily_search_results_json', id='c4cb801c-ddb8-46d4-80fb-1b9161c64cb1', tool_call_id='call_XymmZmZ4yygePl4OxjzNptCU', artifact={'query': 'current weather in San Francisco', 'follow_up_questions': None, 'answer': None, 'images': [], 'results': [{'url': 'https://www.weather25.com/north-america/usa/california/san-francisco?page=month&month=September', 'title': 'San Francisco weather in September 2025 | Weather25.com', 'content': '# San Francisco weather in September 2025\\n\\nThe **temperatures in San Francisco in September are comfortable** with low of 14°C and and high up to 25°C.\\n\\nThere is little to no rain in San Francisco during September, so it’s a lot easier to explore the city. Just remember to dress in warm layers, as it can still get pretty chilly.\\n\\nOur weather forecast can give you a great sense of what weather to expect in **San Francisco in September 2025**. [...] | [7 Partly cloudy 22° /15°](https://www.weather25.com/north-america/usa/california/san-francisco?page=past-weather#day=7&month=9 \"Weather in 7 september 2025\") | [8 Sunny 24° /15°](https://www.weather25.com/north-america/usa/california/san-francisco?page=past-weather#day=8&month=9 \"Weather in 8 september 2025\") | [9 Sunny 22° /14°](https://www.weather25.com/north-america/usa/california/san-francisco?page=past-weather#day=9&month=9 \"Weather in 9 september 2025\") | [10 Partly cloudy 20° [...] ![Partly cloudy]( \"Partly cloudy\")\\n![Sunny]( \"Sunny\")\\n![Mist]( \"Mist\")\\n![Partly cloudy]( \"Partly cloudy\")\\n![Partly cloudy]( \"Partly cloudy\")\\n![Cloudy]( \"Cloudy\")\\n![Sunny]( \"Sunny\")\\n![Partly cloudy]( \"Partly cloudy\")\\n![Sunny]( \"Sunny\")', 'score': 0.9088853, 'raw_content': None}], 'response_time': 6.43}),\n",
       " AIMessage(content=\"The current weather in San Francisco is comfortable, with temperatures ranging from a low of 14°C to a high of 25°C. There is little to no rain expected, making it a great time to explore the city. However, it's advisable to dress in warm layers as it can still get chilly. \\n\\nFor more detailed forecasts, you can check the [weather report here](https://www.weather25.com/north-america/usa/california/san-francisco?page=month&month=September).\", additional_kwargs={'refusal': None}, response_metadata={'token_usage': {'completion_tokens': 104, 'prompt_tokens': 521, 'total_tokens': 625, 'completion_tokens_details': {'accepted_prediction_tokens': 0, 'audio_tokens': 0, 'reasoning_tokens': 0, 'rejected_prediction_tokens': 0}, 'prompt_tokens_details': {'audio_tokens': 0, 'cached_tokens': 0}}, 'model_name': 'gpt-4o-mini-2024-07-18', 'system_fingerprint': 'fp_34a54ae93c', 'finish_reason': 'stop', 'logprobs': None}, id='run--7cb797a8-21b0-4947-8ea0-fa19b40f6e63-0', usage_metadata={'input_tokens': 521, 'output_tokens': 104, 'total_tokens': 625, 'input_token_details': {'audio': 0, 'cache_read': 0}, 'output_token_details': {'audio': 0, 'reasoning': 0}})]"
      ]
     },
     "execution_count": 67,
     "metadata": {},
     "output_type": "execute_result"
    }
   ],
   "source": [
    "response = agent_executor.invoke(\n",
    "    {\"messages\": [HumanMessage(content=\"whats the weather in sf?\")]}\n",
    ")\n",
    "response[\"messages\"]"
   ]
  },
  {
   "cell_type": "markdown",
   "id": "c174f838",
   "metadata": {},
   "source": [
    "We can check out the [LangSmith trace](https://smith.langchain.com/public/f520839d-cd4d-4495-8764-e32b548e235d/r) to make sure it's calling the search tool effectively."
   ]
  },
  {
   "cell_type": "markdown",
   "id": "8f6ca7e4",
   "metadata": {},
   "source": [
    "## Streaming Messages\n",
    "\n",
    "We've seen how the agent can be called with `.invoke` to get  a final response. If the agent executes multiple steps, this may take a while. To show intermediate progress, we can stream back messages as they occur."
   ]
  },
  {
   "cell_type": "code",
   "execution_count": 71,
   "id": "bd93812b-2350-4d7f-9643-34c753503754",
   "metadata": {
    "tags": []
   },
   "outputs": [
    {
     "name": "stdout",
     "output_type": "stream",
     "text": [
      "================================\u001b[1m Human Message \u001b[0m=================================\n",
      "\n",
      "whats the weather in sf?\n",
      "==================================\u001b[1m Ai Message \u001b[0m==================================\n",
      "Tool Calls:\n",
      "  tavily_search_results_json (call_v6cFgYp5fHc3fHcNaRmOizNd)\n",
      " Call ID: call_v6cFgYp5fHc3fHcNaRmOizNd\n",
      "  Args:\n",
      "    query: current weather in San Francisco\n",
      "=================================\u001b[1m Tool Message \u001b[0m=================================\n",
      "Name: tavily_search_results_json\n",
      "\n",
      "[{\"url\": \"https://www.weather25.com/north-america/usa/california/san-francisco?page=month&month=September\", \"content\": \"# San Francisco weather in September 2025\\n\\nThe **temperatures in San Francisco in September are comfortable** with low of 14°C and and high up to 25°C.\\n\\nThere is little to no rain in San Francisco during September, so it’s a lot easier to explore the city. Just remember to dress in warm layers, as it can still get pretty chilly.\\n\\nOur weather forecast can give you a great sense of what weather to expect in **San Francisco in September 2025**. [...] | [7 Partly cloudy 22° /15°](https://www.weather25.com/north-america/usa/california/san-francisco?page=past-weather#day=7&month=9 \\\"Weather in 7 september 2025\\\") | [8 Sunny 24° /15°](https://www.weather25.com/north-america/usa/california/san-francisco?page=past-weather#day=8&month=9 \\\"Weather in 8 september 2025\\\") | [9 Sunny 22° /14°](https://www.weather25.com/north-america/usa/california/san-francisco?page=past-weather#day=9&month=9 \\\"Weather in 9 september 2025\\\") | [10 Partly cloudy 20° [...] ![Partly cloudy]( \\\"Partly cloudy\\\")\\n![Sunny]( \\\"Sunny\\\")\\n![Mist]( \\\"Mist\\\")\\n![Partly cloudy]( \\\"Partly cloudy\\\")\\n![Partly cloudy]( \\\"Partly cloudy\\\")\\n![Cloudy]( \\\"Cloudy\\\")\\n![Sunny]( \\\"Sunny\\\")\\n![Partly cloudy]( \\\"Partly cloudy\\\")\\n![Sunny]( \\\"Sunny\\\")\"}]\n",
      "==================================\u001b[1m Ai Message \u001b[0m==================================\n",
      "\n",
      "The current weather in San Francisco is comfortable, with temperatures ranging from a low of 14°C to a high of 25°C. There is little to no rain, making it a good time to explore the city. However, it's advisable to dress in warm layers, as it can still get quite chilly.\n",
      "\n",
      "For more detailed forecasts, you can check the full weather report [here](https://www.weather25.com/north-america/usa/california/san-francisco?page=month&month=September).\n"
     ]
    }
   ],
   "source": [
    "for step in agent_executor.stream(\n",
    "    {\"messages\": [HumanMessage(content=\"whats the weather in sf?\")]},\n",
    "    stream_mode=\"values\",\n",
    "):\n",
    "    step[\"messages\"][-1].pretty_print()"
   ]
  },
  {
   "cell_type": "markdown",
   "id": "c72b3043",
   "metadata": {},
   "source": [
    "## Streaming tokens\n",
    "\n",
    "In addition to streaming back messages, it is also useful to stream back tokens.\n",
    "We can do this by specifying `stream_mode=\"messages\"`.\n",
    "\n",
    "\n",
    "::: note\n",
    "\n",
    "Below we use `message.text()`, which requires `langchain-core>=0.3.37`.\n",
    "\n",
    ":::"
   ]
  },
  {
   "cell_type": "code",
   "execution_count": 73,
   "id": "63198158-380e-43a3-a2ad-d4288949c1d4",
   "metadata": {
    "tags": []
   },
   "outputs": [
    {
     "name": "stdout",
     "output_type": "stream",
     "text": [
      "The| current| weather| in| San| Francisco| features| a| marine| layer|,| resulting| in| cool| and| mist|y| conditions|.| The| temperatures| are| around| |14|°C| (|57|°F|)| in| the| morning|,| with| a| high| expected| to| reach| approximately| |18|°C| (|64|°F|)| later| in| the| day|.| \n",
      "\n",
      "|For| more| detailed| forecasts| and| updates|,| you| can| check| the| following| resources|:| \n",
      "|-| [|Weather|25|](|https|://|www|.weather|25|.com|/n|orth|-amer|ica|/|usa|/cal|ifornia|/s|an|-fr|anc|isco|?page|=t|oday|)\n",
      "|-| [|Sp|reak|er| Weather| Update|](|https|://|www|.sp|reak|er|.com|/|episode|/t|oday|-s|-weather|-in|-san|-fr|anc|isco|-|06|-|09|-|25|-m|arine|-layer|-m|agic|-and|-m|isty|-m|orning|-m|eteor|ological|-m|ay|hem|--|664|687|37|)| \n",
      "\n",
      "|Please| let| me| know| if| you| need| more| information|!|"
     ]
    }
   ],
   "source": [
    "for step, metadata in agent_executor.stream(\n",
    "    {\"messages\": [HumanMessage(content=\"whats the weather in sf?\")]},\n",
    "    stream_mode=\"messages\",\n",
    "):\n",
    "    if metadata[\"langgraph_node\"] == \"agent\" and (text := step.text()):\n",
    "        print(text, end=\"|\")"
   ]
  },
  {
   "cell_type": "markdown",
   "id": "022cbc8a",
   "metadata": {},
   "source": [
    "## Adding in memory\n",
    "\n",
    "As mentioned earlier, this agent is stateless. This means it does not remember previous interactions. To give it memory we need to pass in a checkpointer. When passing in a checkpointer, we also have to pass in a `thread_id` when invoking the agent (so it knows which thread/conversation to resume from)."
   ]
  },
  {
   "cell_type": "code",
   "execution_count": 77,
   "id": "c4073e35",
   "metadata": {
    "tags": []
   },
   "outputs": [],
   "source": [
    "from langgraph.checkpoint.memory import MemorySaver\n",
    "\n",
    "memory = MemorySaver()"
   ]
  },
  {
   "cell_type": "code",
   "execution_count": 79,
   "id": "e64a944e-f9ac-43cf-903c-d3d28d765377",
   "metadata": {
    "tags": []
   },
   "outputs": [],
   "source": [
    "agent_executor = create_react_agent(model, tools, checkpointer=memory)\n",
    "\n",
    "config = {\"configurable\": {\"thread_id\": \"abc123\"}}"
   ]
  },
  {
   "cell_type": "code",
   "execution_count": 81,
   "id": "a13462d0-2d02-4474-921e-15a1ba1fa274",
   "metadata": {
    "tags": []
   },
   "outputs": [
    {
     "name": "stdout",
     "output_type": "stream",
     "text": [
      "{'agent': {'messages': [AIMessage(content='Hi Bob! How can I assist you today?', additional_kwargs={'refusal': None}, response_metadata={'token_usage': {'completion_tokens': 11, 'prompt_tokens': 83, 'total_tokens': 94, 'completion_tokens_details': {'accepted_prediction_tokens': 0, 'audio_tokens': 0, 'reasoning_tokens': 0, 'rejected_prediction_tokens': 0}, 'prompt_tokens_details': {'audio_tokens': 0, 'cached_tokens': 0}}, 'model_name': 'gpt-4o-mini-2024-07-18', 'system_fingerprint': 'fp_34a54ae93c', 'finish_reason': 'stop', 'logprobs': None}, id='run--b6e5807e-cdfc-4d30-b935-2eb122a02b12-0', usage_metadata={'input_tokens': 83, 'output_tokens': 11, 'total_tokens': 94, 'input_token_details': {'audio': 0, 'cache_read': 0}, 'output_token_details': {'audio': 0, 'reasoning': 0}})]}}\n",
      "----\n"
     ]
    }
   ],
   "source": [
    "for chunk in agent_executor.stream(\n",
    "    {\"messages\": [HumanMessage(content=\"hi im bob!\")]}, config\n",
    "):\n",
    "    print(chunk)\n",
    "    print(\"----\")"
   ]
  },
  {
   "cell_type": "code",
   "execution_count": 82,
   "id": "56d8028b-5dbc-40b2-86f5-ed60631d86a3",
   "metadata": {
    "tags": []
   },
   "outputs": [
    {
     "name": "stdout",
     "output_type": "stream",
     "text": [
      "{'agent': {'messages': [AIMessage(content='Your name is Bob! How can I help you today?', additional_kwargs={'refusal': None}, response_metadata={'token_usage': {'completion_tokens': 13, 'prompt_tokens': 106, 'total_tokens': 119, 'completion_tokens_details': {'accepted_prediction_tokens': 0, 'audio_tokens': 0, 'reasoning_tokens': 0, 'rejected_prediction_tokens': 0}, 'prompt_tokens_details': {'audio_tokens': 0, 'cached_tokens': 0}}, 'model_name': 'gpt-4o-mini-2024-07-18', 'system_fingerprint': 'fp_34a54ae93c', 'finish_reason': 'stop', 'logprobs': None}, id='run--78de8500-5ab4-465d-8aed-d2246a862cf4-0', usage_metadata={'input_tokens': 106, 'output_tokens': 13, 'total_tokens': 119, 'input_token_details': {'audio': 0, 'cache_read': 0}, 'output_token_details': {'audio': 0, 'reasoning': 0}})]}}\n",
      "----\n"
     ]
    }
   ],
   "source": [
    "for chunk in agent_executor.stream(\n",
    "    {\"messages\": [HumanMessage(content=\"whats my name?\")]}, config\n",
    "):\n",
    "    print(chunk)\n",
    "    print(\"----\")"
   ]
  },
  {
   "cell_type": "markdown",
   "id": "bda99754-0a11-4447-b408-e8db8f2e3517",
   "metadata": {},
   "source": [
    "Example [LangSmith trace](https://smith.langchain.com/public/fa73960b-0f7d-4910-b73d-757a12f33b2b/r)"
   ]
  },
  {
   "cell_type": "markdown",
   "id": "ae908088",
   "metadata": {},
   "source": [
    "If you want to start a new conversation, all you have to do is change the `thread_id` used"
   ]
  },
  {
   "cell_type": "code",
   "execution_count": 87,
   "id": "24460239",
   "metadata": {
    "tags": []
   },
   "outputs": [
    {
     "name": "stdout",
     "output_type": "stream",
     "text": [
      "{'agent': {'messages': [AIMessage(content=\"I don't have access to personal data about users unless it has been shared with me in the course of our conversation. Therefore, I don’t know your name. If you tell me your name, I can use it in our chat!\", additional_kwargs={'refusal': None}, response_metadata={'token_usage': {'completion_tokens': 48, 'prompt_tokens': 84, 'total_tokens': 132, 'completion_tokens_details': {'accepted_prediction_tokens': 0, 'audio_tokens': 0, 'reasoning_tokens': 0, 'rejected_prediction_tokens': 0}, 'prompt_tokens_details': {'audio_tokens': 0, 'cached_tokens': 0}}, 'model_name': 'gpt-4o-mini-2024-07-18', 'system_fingerprint': 'fp_34a54ae93c', 'finish_reason': 'stop', 'logprobs': None}, id='run--b0b0fb72-94e0-460f-9e7f-c0cec1a994b3-0', usage_metadata={'input_tokens': 84, 'output_tokens': 48, 'total_tokens': 132, 'input_token_details': {'audio': 0, 'cache_read': 0}, 'output_token_details': {'audio': 0, 'reasoning': 0}})]}}\n",
      "----\n"
     ]
    }
   ],
   "source": [
    "config = {\"configurable\": {\"thread_id\": \"xyz123\"}}\n",
    "for chunk in agent_executor.stream(\n",
    "    {\"messages\": [HumanMessage(content=\"whats my name?\")]}, config\n",
    "):\n",
    "    print(chunk)\n",
    "    print(\"----\")"
   ]
  },
  {
   "cell_type": "markdown",
   "id": "c029798f",
   "metadata": {},
   "source": [
    "## Conclusion\n",
    "\n",
    "That's a wrap! In this quick start we covered how to create a simple agent. \n",
    "We've then shown how to stream back a response - not only with the intermediate steps, but also tokens!\n",
    "We've also added in memory so you can have a conversation with them.\n",
    "Agents are a complex topic with lots to learn! \n",
    "\n",
    "For more information on Agents, please check out the [LangGraph](/docs/concepts/architecture/#langgraph) documentation. This has it's own set of concepts, tutorials, and how-to guides."
   ]
  },
  {
   "cell_type": "code",
   "execution_count": null,
   "id": "e3ec3244",
   "metadata": {},
   "outputs": [],
   "source": []
  }
 ],
 "metadata": {
  "kernelspec": {
   "display_name": "Python 3 (ipykernel)",
   "language": "python",
   "name": "python3"
  },
  "language_info": {
   "codemirror_mode": {
    "name": "ipython",
    "version": 3
   },
   "file_extension": ".py",
   "mimetype": "text/x-python",
   "name": "python",
   "nbconvert_exporter": "python",
   "pygments_lexer": "ipython3",
   "version": "3.11.7"
  }
 },
 "nbformat": 4,
 "nbformat_minor": 5
}
