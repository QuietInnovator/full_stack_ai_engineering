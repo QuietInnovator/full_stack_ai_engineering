{
 "cells": [
  {
   "cell_type": "raw",
   "id": "17546ebb",
   "metadata": {
    "vscode": {
     "languageId": "raw"
    }
   },
   "source": [
    "modified by Chadi Abi Fadel\n"
   ]
  },
  {
   "cell_type": "markdown",
   "id": "1df78a71",
   "metadata": {},
   "source": [
    "# Build an Agent\n",
    "\n",
    "By themselves, language models can't take actions - they just output text.\n",
    "A big use case for LangChain is creating **agents**.\n",
    "[Agents](/docs/concepts/agents) are systems that use [LLMs](/docs/concepts/chat_models) as reasoning engines to determine which actions to take and the inputs necessary to perform the action.\n",
    "After executing actions, the results can be fed back into the LLM to determine whether more actions are needed, or whether it is okay to finish. This is often achieved via [tool-calling](/docs/concepts/tool_calling).\n",
    "\n",
    "In this tutorial we will build an agent that can interact with a search engine. You will be able to ask this agent questions, watch it call the search tool, and have conversations with it.\n",
    "\n",
    "## End-to-end agent\n",
    "\n",
    "The code snippet below represents a fully functional agent that uses an LLM to decide which tools to use. It is equipped with a generic search tool. It has conversational memory - meaning that it can be used as a multi-turn chatbot.\n",
    "\n",
    "In the rest of the guide, we will walk through the individual components and what each part does - but if you want to just grab some code and get started, feel free to use this!"
   ]
  },
  {
   "cell_type": "code",
   "execution_count": null,
   "id": "86d9386b-442f-4cd6-a78f-57c88249d3f0",
   "metadata": {
    "tags": []
   },
   "outputs": [],
   "source": [
    "# Load environment variables from .env file\n",
    "import dotenv\n",
    "import os\n",
    "dotenv.load_dotenv()\n",
    "\n",
    "# Import LangChain components for building the agent\n",
    "from langchain_openai import ChatOpenAI  # OpenAI's language model interface\n",
    "from langchain_community.tools.tavily_search import TavilySearchResults  # Web search tool\n",
    "from langchain_core.messages import HumanMessage  # Message structure for human input\n",
    "from langgraph.checkpoint.memory import MemorySaver  # Memory persistence for conversations\n",
    "from langgraph.prebuilt import create_react_agent  # Pre-built ReAct agent factory\n",
    "\n",
    "# Initialize memory for conversation state persistence\n",
    "memory = MemorySaver()\n",
    "\n",
    "# Configure the language model (using OpenAI's GPT-4o-mini)\n",
    "# Alternative Anthropic Claude model is commented out\n",
    "# model = ChatAnthropic(model_name=\"claude-3-sonnet-20240229\")\n",
    "model = ChatOpenAI(model_name='gpt-4o-mini')\n",
    "\n",
    "# Configure the search tool with maximum 2 results per query\n",
    "search = TavilySearchResults(max_results=2)\n",
    "\n",
    "# Create tools list (can add more tools later)\n",
    "tools = [search]\n",
    "\n",
    "# Create the ReAct agent with model, tools, and memory checkpointing\n",
    "agent_executor = create_react_agent(model, tools, checkpointer=memory)"
   ]
  },
  {
   "cell_type": "code",
   "execution_count": null,
   "id": "7ab50503-d09f-4ff4-9080-5afe297ccc38",
   "metadata": {
    "tags": []
   },
   "outputs": [],
   "source": [
    "# Test the agent with a simple greeting message\n",
    "# Configure thread ID for conversation memory persistence\n",
    "config = {\"configurable\": {\"thread_id\": \"abc123\"}}\n",
    "\n",
    "# Stream the agent's response in real-time\n",
    "# The agent processes the human message and responds appropriately\n",
    "for step in agent_executor.stream(\n",
    "    {\"messages\": [HumanMessage(content=\"hi im chadi! and i live in byblos, lebanon\")]},\n",
    "    config,\n",
    "    stream_mode=\"values\",  # Stream complete message values\n",
    "):\n",
    "    # Pretty print the last message in each step\n",
    "    step[\"messages\"][-1].pretty_print()"
   ]
  },
  {
   "cell_type": "code",
   "execution_count": null,
   "id": "fcadb699-3787-4028-a5f6-e5605c8118d4",
   "metadata": {
    "tags": []
   },
   "outputs": [],
   "source": [
    "# Demonstrate agent tool usage with a context-aware query\n",
    "# The agent remembers that Chadi lives in Byblos, Lebanon from the previous message\n",
    "# However, the search seems to default to San Francisco (possibly a model confusion)\n",
    "for step in agent_executor.stream(\n",
    "    {\"messages\": [HumanMessage(content=\"whats the weather where I live?\")]},\n",
    "    config,  # Same thread ID to maintain conversation context\n",
    "    stream_mode=\"values\",\n",
    "):\n",
    "    # Display the conversation flow:\n",
    "    # 1. Human asks about weather\n",
    "    # 2. AI decides to use search tool\n",
    "    # 3. Tool returns search results\n",
    "    # 4. AI synthesizes response from search results\n",
    "    step[\"messages\"][-1].pretty_print()"
   ]
  },
  {
   "cell_type": "markdown",
   "id": "f4c03f40-1328-412d-8a48-1db0cd481b77",
   "metadata": {},
   "source": [
    "## Setup\n",
    "\n",
    "### Jupyter Notebook\n",
    "\n",
    "This guide (and most of the other guides in the documentation) uses [Jupyter notebooks](https://jupyter.org/) and assumes the reader is as well. Jupyter notebooks are perfect interactive environments for learning how to work with LLM systems because oftentimes things can go wrong (unexpected output, API down, etc), and observing these cases is a great way to better understand building with LLMs.\n",
    "\n",
    "This and other tutorials are perhaps most conveniently run in a Jupyter notebook. See [here](https://jupyter.org/install) for instructions on how to install.\n",
    "\n",
    "### Installation\n",
    "\n",
    "To install LangChain run:"
   ]
  },
  {
   "cell_type": "code",
   "execution_count": null,
   "id": "60bb3eb1",
   "metadata": {
    "tags": []
   },
   "outputs": [],
   "source": [
    "# Install required LangChain packages using pip\n",
    "# This installs the core LangChain ecosystem components needed for building agents:\n",
    "# - langchain-community: Community-contributed tools and integrations\n",
    "# - langgraph: Graph-based agent framework for complex workflows\n",
    "# - langchain-anthropic: Integration with Anthropic's Claude models\n",
    "# - tavily-python: Web search API integration\n",
    "# - langgraph-checkpoint-sqlite: SQLite-based memory persistence\n",
    "%pip install -U langchain-community langgraph langchain-anthropic tavily-python langgraph-checkpoint-sqlite"
   ]
  },
  {
   "cell_type": "markdown",
   "id": "2ee337ae",
   "metadata": {},
   "source": [
    "For more details, see our [Installation guide](/docs/how_to/installation).\n",
    "\n",
    "### LangSmith\n",
    "\n",
    "Many of the applications you build with LangChain will contain multiple steps with multiple invocations of LLM calls.\n",
    "As these applications get more and more complex, it becomes crucial to be able to inspect what exactly is going on inside your chain or agent.\n",
    "The best way to do this is with [LangSmith](https://smith.langchain.com).\n",
    "\n",
    "After you sign up at the link above, make sure to set your environment variables to start logging traces:\n",
    "\n",
    "```shell\n",
    "export LANGSMITH_TRACING=\"true\"\n",
    "export LANGSMITH_API_KEY=\"...\"\n",
    "```\n",
    "\n",
    "Or, if in a notebook, you can set them with:\n",
    "\n",
    "```python\n",
    "import getpass\n",
    "import os\n",
    "\n",
    "os.environ[\"LANGSMITH_TRACING\"] = \"true\"\n",
    "os.environ[\"LANGSMITH_API_KEY\"] = getpass.getpass()\n",
    "```\n",
    "\n",
    "### Tavily\n",
    "\n",
    "We will be using [Tavily](/docs/integrations/tools/tavily_search) (a search engine) as a tool.\n",
    "In order to use it, you will need to get and set an API key:\n",
    "\n",
    "```bash\n",
    "export TAVILY_API_KEY=\"...\"\n",
    "```\n",
    "\n",
    "Or, if in a notebook, you can set it with:\n",
    "\n",
    "```python\n",
    "import getpass\n",
    "import os\n",
    "\n",
    "os.environ[\"TAVILY_API_KEY\"] = getpass.getpass()\n",
    "```"
   ]
  },
  {
   "cell_type": "markdown",
   "id": "c335d1bf",
   "metadata": {},
   "source": [
    "## Define tools\n",
    "\n",
    "We first need to create the tools we want to use. Our main tool of choice will be [Tavily](/docs/integrations/tools/tavily_search) - a search engine. We have a built-in tool in LangChain to easily use Tavily search engine as tool.\n"
   ]
  },
  {
   "cell_type": "code",
   "execution_count": null,
   "id": "002e23b1-fdf9-46e9-82d9-f467abdd3f35",
   "metadata": {
    "tags": []
   },
   "outputs": [],
   "source": [
    "# Import and configure the Tavily search tool\n",
    "from langchain_community.tools.tavily_search import TavilySearchResults\n",
    "\n",
    "# Create search tool instance with max 2 results per query\n",
    "search = TavilySearchResults(max_results=2)\n",
    "\n",
    "# Test the search tool directly to see its output format\n",
    "search_results = search.invoke(\"what is the weather in SF\")\n",
    "print(search_results)\n",
    "\n",
    "# Additional tools can be created and added here as needed\n",
    "# Once we have all the tools we want, we put them in a list for the agent\n",
    "tools = [search]"
   ]
  },
  {
   "cell_type": "markdown",
   "id": "e00068b0",
   "metadata": {},
   "source": [
    "## Using Language Models\n",
    "\n",
    "Next, let's learn how to use a language model to call tools. LangChain supports many different language models that you can use interchangably - select the one you want to use below!\n",
    "\n",
    "import ChatModelTabs from \"@theme/ChatModelTabs\";\n",
    "\n",
    "<ChatModelTabs overrideParams={{openai: {model: \"gpt-4\"}}} />\n"
   ]
  },
  {
   "cell_type": "code",
   "execution_count": null,
   "id": "69185491",
   "metadata": {},
   "outputs": [],
   "source": [
    "# Configure alternative language model (Anthropic Claude)\n",
    "# This cell shows how to use Claude instead of OpenAI\n",
    "# Note: This is commented out in actual execution\n",
    "from langchain_anthropic import ChatAnthropic\n",
    "\n",
    "# Initialize Claude-3 Sonnet model\n",
    "model = ChatAnthropic(model=\"claude-3-sonnet-20240229\")"
   ]
  },
  {
   "cell_type": "markdown",
   "id": "642ed8bf",
   "metadata": {},
   "source": [
    "You can call the language model by passing in a list of messages. By default, the response is a `content` string."
   ]
  },
  {
   "cell_type": "code",
   "execution_count": null,
   "id": "c96c960b",
   "metadata": {
    "tags": []
   },
   "outputs": [],
   "source": [
    "# Test basic language model interaction without tools\n",
    "from langchain_core.messages import HumanMessage\n",
    "\n",
    "# Send a simple message to the model and get response\n",
    "response = model.invoke([HumanMessage(content=\"hi!\")])\n",
    "\n",
    "# Extract and display the text content of the response\n",
    "response.content"
   ]
  },
  {
   "cell_type": "markdown",
   "id": "47bf8210",
   "metadata": {},
   "source": [
    "We can now see what it is like to enable this model to do tool calling. In order to enable that we use `.bind_tools` to give the language model knowledge of these tools"
   ]
  },
  {
   "cell_type": "code",
   "execution_count": null,
   "id": "ba692a74",
   "metadata": {
    "tags": []
   },
   "outputs": [],
   "source": [
    "# Bind tools to the language model to enable tool-calling capabilities\n",
    "# This gives the model awareness of available tools and their schemas\n",
    "model_with_tools = model.bind_tools(tools)"
   ]
  },
  {
   "cell_type": "markdown",
   "id": "fd920b69",
   "metadata": {},
   "source": [
    "We can now call the model. Let's first call it with a normal message, and see how it responds. We can look at both the `content` field as well as the `tool_calls` field."
   ]
  },
  {
   "cell_type": "code",
   "execution_count": null,
   "id": "b6a7e925",
   "metadata": {
    "tags": []
   },
   "outputs": [],
   "source": [
    "# Test the tool-enabled model with a non-tool requiring message\n",
    "response = model_with_tools.invoke([HumanMessage(content=\"Hi!\")])\n",
    "\n",
    "# Examine both content and tool_calls fields\n",
    "# For simple greetings, expect normal text response with no tool calls\n",
    "print(f\"ContentString: {response.content}\")\n",
    "print(f\"ToolCalls: {response.tool_calls}\")"
   ]
  },
  {
   "cell_type": "markdown",
   "id": "e8c81e76",
   "metadata": {},
   "source": [
    "Now, let's try calling it with some input that would expect a tool to be called."
   ]
  },
  {
   "cell_type": "code",
   "execution_count": null,
   "id": "688b465d",
   "metadata": {
    "tags": []
   },
   "outputs": [],
   "source": [
    "# Test the tool-enabled model with a query that requires tool usage\n",
    "response = model_with_tools.invoke([HumanMessage(content=\"What's the weather in SF?\")])\n",
    "\n",
    "# Notice how the model now:\n",
    "# 1. Has empty content (no direct text response)\n",
    "# 2. Has populated tool_calls with search query\n",
    "# This shows the model recognized the need to use the search tool\n",
    "print(f\"ContentString: {response.content}\")\n",
    "print(f\"ToolCalls: {response.tool_calls}\")"
   ]
  },
  {
   "cell_type": "markdown",
   "id": "83c4bcd3",
   "metadata": {},
   "source": [
    "We can see that there's now no text content, but there is a tool call! It wants us to call the Tavily Search tool.\n",
    "\n",
    "This isn't calling that tool yet - it's just telling us to. In order to actually call it, we'll want to create our agent."
   ]
  },
  {
   "cell_type": "markdown",
   "id": "40ccec80",
   "metadata": {},
   "source": [
    "## Create the agent\n",
    "\n",
    "Now that we have defined the tools and the LLM, we can create the agent. We will be using [LangGraph](/docs/concepts/architecture/#langgraph) to construct the agent. \n",
    "Currently, we are using a high level interface to construct the agent, but the nice thing about LangGraph is that this high-level interface is backed by a low-level, highly controllable API in case you want to modify the agent logic.\n"
   ]
  },
  {
   "cell_type": "markdown",
   "id": "f8014c9d",
   "metadata": {},
   "source": [
    "Now, we can initialize the agent with the LLM and the tools.\n",
    "\n",
    "Note that we are passing in the `model`, not `model_with_tools`. That is because `create_react_agent` will call `.bind_tools` for us under the hood."
   ]
  },
  {
   "cell_type": "code",
   "execution_count": null,
   "id": "89cf72b4-6046-4b47-8f27-5522d8cb8036",
   "metadata": {
    "tags": []
   },
   "outputs": [],
   "source": [
    "# Create a ReAct (Reasoning and Acting) agent using LangGraph\n",
    "from langgraph.prebuilt import create_react_agent\n",
    "\n",
    "# Initialize the agent executor with:\n",
    "# - model: The language model (without pre-bound tools)\n",
    "# - tools: List of available tools (search in this case)\n",
    "# Note: create_react_agent will automatically bind tools to the model\n",
    "agent_executor = create_react_agent(model, tools)"
   ]
  },
  {
   "cell_type": "markdown",
   "id": "e4df0e06",
   "metadata": {},
   "source": [
    "## Run the agent\n",
    "\n",
    "We can now run the agent with a few queries! Note that for now, these are all **stateless** queries (it won't remember previous interactions). Note that the agent will return the **final** state at the end of the interaction (which includes any inputs, we will see later on how to get only the outputs).\n",
    "\n",
    "First up, let's see how it responds when there's no need to call a tool:"
   ]
  },
  {
   "cell_type": "code",
   "execution_count": null,
   "id": "114ba50d",
   "metadata": {
    "tags": []
   },
   "outputs": [],
   "source": [
    "# Test agent with a simple greeting (no tools needed)\n",
    "# The invoke method runs the agent synchronously and returns final state\n",
    "response = agent_executor.invoke({\"messages\": [HumanMessage(content=\"hi!\")]})\n",
    "\n",
    "# The response contains all messages in the conversation:\n",
    "# 1. Human message (input)\n",
    "# 2. AI message (response)\n",
    "# Note: No tool calls occurred since greeting doesn't require search\n",
    "response[\"messages\"]"
   ]
  },
  {
   "cell_type": "markdown",
   "id": "71493a42",
   "metadata": {},
   "source": [
    "In order to see exactly what is happening under the hood (and to make sure it's not calling a tool) we can take a look at the [LangSmith trace](https://smith.langchain.com/public/28311faa-e135-4d6a-ab6b-caecf6482aaa/r)\n",
    "\n",
    "Let's now try it out on an example where it should be invoking the tool"
   ]
  },
  {
   "cell_type": "code",
   "execution_count": null,
   "id": "77c2f769",
   "metadata": {
    "tags": []
   },
   "outputs": [],
   "source": [
    "# Test agent with a query requiring tool usage (weather information)\n",
    "response = agent_executor.invoke(\n",
    "    {\"messages\": [HumanMessage(content=\"whats the weather in sf?\")]}\n",
    ")\n",
    "\n",
    "# The response now contains 4 messages showing the complete ReAct cycle:\n",
    "# 1. HumanMessage: User's weather query\n",
    "# 2. AIMessage: Agent decides to use search tool (tool_calls populated)\n",
    "# 3. ToolMessage: Search results from Tavily API\n",
    "# 4. AIMessage: Agent synthesizes final answer from search results\n",
    "response[\"messages\"]"
   ]
  },
  {
   "cell_type": "markdown",
   "id": "c174f838",
   "metadata": {},
   "source": [
    "We can check out the [LangSmith trace](https://smith.langchain.com/public/f520839d-cd4d-4495-8764-e32b548e235d/r) to make sure it's calling the search tool effectively."
   ]
  },
  {
   "cell_type": "markdown",
   "id": "8f6ca7e4",
   "metadata": {},
   "source": [
    "## Streaming Messages\n",
    "\n",
    "We've seen how the agent can be called with `.invoke` to get  a final response. If the agent executes multiple steps, this may take a while. To show intermediate progress, we can stream back messages as they occur."
   ]
  },
  {
   "cell_type": "code",
   "execution_count": null,
   "id": "bd93812b-2350-4d7f-9643-34c753503754",
   "metadata": {
    "tags": []
   },
   "outputs": [],
   "source": [
    "# Demonstrate streaming agent execution to show intermediate steps\n",
    "# stream_mode=\"values\" returns complete message states as they're updated\n",
    "for step in agent_executor.stream(\n",
    "    {\"messages\": [HumanMessage(content=\"whats the weather in sf?\")]},\n",
    "    stream_mode=\"values\",\n",
    "):\n",
    "    # Print each message as it becomes available:\n",
    "    # 1. First shows human message\n",
    "    # 2. Then shows AI deciding to use tool\n",
    "    # 3. Then shows tool execution results\n",
    "    # 4. Finally shows AI's synthesized response\n",
    "    step[\"messages\"][-1].pretty_print()"
   ]
  },
  {
   "cell_type": "markdown",
   "id": "c72b3043",
   "metadata": {},
   "source": [
    "## Streaming tokens\n",
    "\n",
    "In addition to streaming back messages, it is also useful to stream back tokens.\n",
    "We can do this by specifying `stream_mode=\"messages\"`.\n",
    "\n",
    "\n",
    "::: note\n",
    "\n",
    "Below we use `message.text()`, which requires `langchain-core>=0.3.37`.\n",
    "\n",
    ":::"
   ]
  },
  {
   "cell_type": "code",
   "execution_count": null,
   "id": "63198158-380e-43a3-a2ad-d4288949c1d4",
   "metadata": {
    "tags": []
   },
   "outputs": [],
   "source": [
    "# Demonstrate token-level streaming for real-time response generation\n",
    "# stream_mode=\"messages\" provides individual message chunks as they're generated\n",
    "for step, metadata in agent_executor.stream(\n",
    "    {\"messages\": [HumanMessage(content=\"whats the weather in sf?\")]},\n",
    "    stream_mode=\"messages\",\n",
    "):\n",
    "    # Filter to only show text tokens from the agent's final response\n",
    "    # langgraph_node=\"agent\" ensures we only see the LLM's output, not tool calls\n",
    "    if metadata[\"langgraph_node\"] == \"agent\" and (text := step.text()):\n",
    "        # Print each token as it's generated, separated by | for visibility\n",
    "        print(text, end=\"|\")"
   ]
  },
  {
   "cell_type": "markdown",
   "id": "022cbc8a",
   "metadata": {},
   "source": [
    "## Adding in memory\n",
    "\n",
    "As mentioned earlier, this agent is stateless. This means it does not remember previous interactions. To give it memory we need to pass in a checkpointer. When passing in a checkpointer, we also have to pass in a `thread_id` when invoking the agent (so it knows which thread/conversation to resume from)."
   ]
  },
  {
   "cell_type": "code",
   "execution_count": null,
   "id": "c4073e35",
   "metadata": {
    "tags": []
   },
   "outputs": [],
   "source": [
    "# Initialize memory system for conversation persistence\n",
    "from langgraph.checkpoint.memory import MemorySaver\n",
    "\n",
    "# MemorySaver stores conversation state in memory (lost when session ends)\n",
    "# For production, consider using persistent storage like SQLite or Redis\n",
    "memory = MemorySaver()"
   ]
  },
  {
   "cell_type": "code",
   "execution_count": null,
   "id": "e64a944e-f9ac-43cf-903c-d3d28d765377",
   "metadata": {
    "tags": []
   },
   "outputs": [],
   "source": [
    "# Recreate agent with memory capabilities\n",
    "agent_executor = create_react_agent(model, tools, checkpointer=memory)\n",
    "\n",
    "# Configure conversation thread ID for memory persistence\n",
    "# Same thread_id = same conversation; different thread_id = new conversation\n",
    "config = {\"configurable\": {\"thread_id\": \"abc123\"}}"
   ]
  },
  {
   "cell_type": "code",
   "execution_count": null,
   "id": "a13462d0-2d02-4474-921e-15a1ba1fa274",
   "metadata": {
    "tags": []
   },
   "outputs": [],
   "source": [
    "# Test memory functionality by introducing the agent to a user\n",
    "# This information should be remembered for subsequent interactions\n",
    "for chunk in agent_executor.stream(\n",
    "    {\"messages\": [HumanMessage(content=\"hi im bob!\")]}, config\n",
    "):\n",
    "    # Display each step of the agent's response\n",
    "    # Agent acknowledges the introduction and stores the name \"Bob\"\n",
    "    print(chunk)\n",
    "    print(\"----\")"
   ]
  },
  {
   "cell_type": "code",
   "execution_count": null,
   "id": "56d8028b-5dbc-40b2-86f5-ed60631d86a3",
   "metadata": {
    "tags": []
   },
   "outputs": [],
   "source": [
    "# Test memory recall by asking the agent about previously shared information\n",
    "# Using the same config (thread_id) ensures conversation continuity\n",
    "for chunk in agent_executor.stream(\n",
    "    {\"messages\": [HumanMessage(content=\"whats my name?\")]}, config\n",
    "):\n",
    "    # Agent successfully recalls the name \"Bob\" from previous interaction\n",
    "    # This demonstrates working conversational memory\n",
    "    print(chunk)\n",
    "    print(\"----\")"
   ]
  },
  {
   "cell_type": "markdown",
   "id": "bda99754-0a11-4447-b408-e8db8f2e3517",
   "metadata": {},
   "source": [
    "Example [LangSmith trace](https://smith.langchain.com/public/fa73960b-0f7d-4910-b73d-757a12f33b2b/r)"
   ]
  },
  {
   "cell_type": "markdown",
   "id": "ae908088",
   "metadata": {},
   "source": [
    "If you want to start a new conversation, all you have to do is change the `thread_id` used"
   ]
  },
  {
   "cell_type": "code",
   "execution_count": null,
   "id": "24460239",
   "metadata": {
    "tags": []
   },
   "outputs": [],
   "source": [
    "# Demonstrate conversation isolation with a different thread_id\n",
    "# New thread = fresh conversation with no memory of previous interactions\n",
    "config = {\"configurable\": {\"thread_id\": \"xyz123\"}}\n",
    "\n",
    "for chunk in agent_executor.stream(\n",
    "    {\"messages\": [HumanMessage(content=\"whats my name?\")]}, config\n",
    "):\n",
    "    # Agent doesn't know the name since this is a different conversation thread\n",
    "    # This proves memory isolation between different thread_ids\n",
    "    print(chunk)\n",
    "    print(\"----\")"
   ]
  },
  {
   "cell_type": "markdown",
   "id": "c029798f",
   "metadata": {},
   "source": [
    "## Conclusion\n",
    "\n",
    "That's a wrap! In this quick start we covered how to create a simple agent. \n",
    "We've then shown how to stream back a response - not only with the intermediate steps, but also tokens!\n",
    "We've also added in memory so you can have a conversation with them.\n",
    "Agents are a complex topic with lots to learn! \n",
    "\n",
    "For more information on Agents, please check out the [LangGraph](/docs/concepts/architecture/#langgraph) documentation. This has it's own set of concepts, tutorials, and how-to guides."
   ]
  },
  {
   "cell_type": "code",
   "execution_count": null,
   "id": "e3ec3244",
   "metadata": {},
   "outputs": [],
   "source": [
    "# This empty cell can be used for additional experimentation\n",
    "# Try adding more tools, testing different queries, or exploring agent configurations"
   ]
  }
 ],
 "metadata": {
  "kernelspec": {
   "display_name": "Python 3 (ipykernel)",
   "language": "python",
   "name": "python3"
  },
  "language_info": {
   "codemirror_mode": {
    "name": "ipython",
    "version": 3
   },
   "file_extension": ".py",
   "mimetype": "text/x-python",
   "name": "python",
   "nbconvert_exporter": "python",
   "pygments_lexer": "ipython3",
   "version": "3.11.7"
  }
 },
 "nbformat": 4,
 "nbformat_minor": 5
}
