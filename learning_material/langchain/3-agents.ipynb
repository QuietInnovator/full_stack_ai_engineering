{
 "cells": [
  {
   "cell_type": "raw",
   "id": "17546ebb",
   "metadata": {
    "vscode": {
     "languageId": "raw"
    }
   },
   "source": [
    "modified by Chadi Abi Fadel\n"
   ]
  },
  {
   "cell_type": "markdown",
   "id": "1df78a71",
   "metadata": {},
   "source": [
    "# Build an Agent\n",
    "\n",
    "By themselves, language models can't take actions - they just output text.\n",
    "A big use case for LangChain is creating **agents**.\n",
    "[Agents](/docs/concepts/agents) are systems that use [LLMs](/docs/concepts/chat_models) as reasoning engines to determine which actions to take and the inputs necessary to perform the action.\n",
    "After executing actions, the results can be fed back into the LLM to determine whether more actions are needed, or whether it is okay to finish. This is often achieved via [tool-calling](/docs/concepts/tool_calling).\n",
    "\n",
    "In this tutorial we will build an agent that can interact with a search engine. You will be able to ask this agent questions, watch it call the search tool, and have conversations with it.\n",
    "\n",
    "## End-to-end agent\n",
    "\n",
    "The code snippet below represents a fully functional agent that uses an LLM to decide which tools to use. It is equipped with a generic search tool. It has conversational memory - meaning that it can be used as a multi-turn chatbot.\n",
    "\n",
    "In the rest of the guide, we will walk through the individual components and what each part does - but if you want to just grab some code and get started, feel free to use this!"
   ]
  },
  {
   "cell_type": "code",
   "execution_count": 50,
   "id": "86d9386b-442f-4cd6-a78f-57c88249d3f0",
   "metadata": {
    "tags": []
   },
   "outputs": [],
   "source": [
    "# Load environment variables from .env file\n",
    "import dotenv\n",
    "import os\n",
    "dotenv.load_dotenv()\n",
    "\n",
    "# Import LangChain components for building the agent\n",
    "from langchain_openai import ChatOpenAI  # OpenAI's language model interface\n",
    "from langchain_community.tools.tavily_search import TavilySearchResults  # Web search tool\n",
    "from langchain_core.messages import HumanMessage  # Message structure for human input\n",
    "from langgraph.checkpoint.memory import MemorySaver  # Memory persistence for conversations\n",
    "from langgraph.prebuilt import create_react_agent  # Pre-built ReAct agent factory\n",
    "\n",
    "# Initialize memory for conversation state persistence\n",
    "memory = MemorySaver()\n",
    "\n",
    "# Configure the language model (using OpenAI's GPT-4o-mini)\n",
    "# Alternative Anthropic Claude model is commented out\n",
    "# model = ChatAnthropic(model_name=\"claude-3-sonnet-20240229\")\n",
    "model = ChatOpenAI(model_name='gpt-4o-mini')\n",
    "\n",
    "# Configure the search tool with maximum 2 results per query\n",
    "search = TavilySearchResults(max_results=2)\n",
    "\n",
    "# Create tools list (can add more tools later)\n",
    "tools = [search]\n",
    "\n",
    "# Create the ReAct agent with model, tools, and memory checkpointing\n",
    "agent_executor = create_react_agent(model, tools, checkpointer=memory)"
   ]
  },
  {
   "cell_type": "code",
   "execution_count": 52,
   "id": "7ab50503-d09f-4ff4-9080-5afe297ccc38",
   "metadata": {
    "tags": []
   },
   "outputs": [
    {
     "name": "stdout",
     "output_type": "stream",
     "text": [
      "================================\u001b[1m Human Message \u001b[0m=================================\n",
      "\n",
      "hi im chadi! and i live in byblos, lebanon\n",
      "==================================\u001b[1m Ai Message \u001b[0m==================================\n",
      "\n",
      "Hi Chadi! It's nice to meet you. Byblos is a beautiful city with a rich history. How can I assist you today?\n"
     ]
    }
   ],
   "source": [
    "# Test the agent with a simple greeting message\n",
    "# Configure thread ID for conversation memory persistence\n",
    "config = {\"configurable\": {\"thread_id\": \"abc123\"}}\n",
    "\n",
    "# Stream the agent's response in real-time\n",
    "# The agent processes the human message and responds appropriately\n",
    "for step in agent_executor.stream(\n",
    "    {\"messages\": [HumanMessage(content=\"hi im chadi! and i live in byblos, lebanon\")]},\n",
    "    config,\n",
    "    stream_mode=\"values\",  # Stream complete message values\n",
    "):\n",
    "    # Pretty print the last message in each step\n",
    "    step[\"messages\"][-1].pretty_print()"
   ]
  },
  {
   "cell_type": "code",
   "execution_count": 54,
   "id": "fcadb699-3787-4028-a5f6-e5605c8118d4",
   "metadata": {
    "tags": []
   },
   "outputs": [
    {
     "name": "stdout",
     "output_type": "stream",
     "text": [
      "================================\u001b[1m Human Message \u001b[0m=================================\n",
      "\n",
      "whats the weather where I live? can  go to the beach?\n",
      "==================================\u001b[1m Ai Message \u001b[0m==================================\n",
      "Tool Calls:\n",
      "  tavily_search_results_json (call_iN7YfmWSDyFY5z17p9x9Q4Ea)\n",
      " Call ID: call_iN7YfmWSDyFY5z17p9x9Q4Ea\n",
      "  Args:\n",
      "    query: Byblos Lebanon weather\n",
      "=================================\u001b[1m Tool Message \u001b[0m=================================\n",
      "Name: tavily_search_results_json\n",
      "\n",
      "[{\"title\": \"Byblos weather in December 2025 - Weather25.com\", \"url\": \"https://www.weather25.com/asia/lebanon/mont-liban/byblos?page=month&month=December\", \"content\": \"The temperatures in Byblos in December are usually low and can range between 55°F and 64°F. You can expect about 3 to 8 days of rain in Byblos during the month\", \"score\": 0.9242583}, {\"title\": \"Byblos weather in December 2025 | Lebanon: How hot?\", \"url\": \"https://www.weather2travel.com/lebanon/byblos/december/\", \"content\": \"[Back to months](#monthly)\\n\\n### Byblos weather in December\\n\\nExpect  **daytime maximum temperatures of 11°C** in **Byblos, Lebanon** in **December** based on long-term weather averages. There are **5 hours of sunshine per day** on average with **13 days with some rainfall** and typically **149 mm of rainfall** in the month. [...] ![11°C maximum daytime temperature in December in Byblos](/images_symbols/temperature8.png)\\n![5 hours of sunshine per day (47% of daylight hours) in December in Byblos](/images_symbols/sunshine5.png)\\n![13 days with some rainfall in December in Byblos](/images_symbols/rainydays5.png)\\n![4°C minimum night-time temperature in December in Byblos](/images_symbols/temperature7.png)\\n![10 hours of daylight per day in December in Byblos](/images_symbols/daylight10.png) [...] ![No heat & humidity in December in Byblos](/images_symbols/heathumidity0.png)\\n![149 mm monthly rainfall in December in Byblos](/images_symbols/rainfall8.png)\\n![UV (maximum) index 3 (Moderate) in December in Byblos](/images_symbols/uv3.png)\\n![20°C sea temperature in December in Byblos](/images_symbols/sea-temperature9.png)\", \"score\": 0.9147261}]\n",
      "==================================\u001b[1m Ai Message \u001b[0m==================================\n",
      "\n",
      "The weather in Byblos, Lebanon, during December typically has daytime maximum temperatures around 11°C (about 52°F). You can expect about 5 hours of sunshine each day, with approximately 13 days of rainfall throughout the month. The sea temperature is around 20°C (68°F).\n",
      "\n",
      "While the sea temperature might be relatively mild, the overall weather is on the cooler side, so going to the beach might not be ideal for swimming. However, if you enjoy a beach walk or just being by the sea, it could still be a nice experience!\n"
     ]
    }
   ],
   "source": [
    "# Demonstrate agent tool usage with a context-aware query\n",
    "# The agent remembers that Chadi lives in Byblos, Lebanon from the previous message\n",
    "# However, the search seems to default to San Francisco (possibly a model confusion)\n",
    "for step in agent_executor.stream(\n",
    "    {\"messages\": [HumanMessage(content=\"whats the weather where I live? can  go to the beach?\")]},\n",
    "    config,  # Same thread ID to maintain conversation context\n",
    "    stream_mode=\"values\",\n",
    "):\n",
    "    # Display the conversation flow:\n",
    "    # 1. Human asks about weather\n",
    "    # 2. AI decides to use search tool\n",
    "    # 3. Tool returns search results\n",
    "    # 4. AI synthesizes response from search results\n",
    "    step[\"messages\"][-1].pretty_print()"
   ]
  },
  {
   "cell_type": "markdown",
   "id": "c335d1bf",
   "metadata": {},
   "source": [
    "-----------\n",
    "## Define tools\n",
    "\n",
    "We first need to create the tools we want to use. Our main tool of choice will be [Tavily](/docs/integrations/tools/tavily_search) - a search engine. We have a built-in tool in LangChain to easily use Tavily search engine as tool.\n"
   ]
  },
  {
   "cell_type": "code",
   "execution_count": 57,
   "id": "002e23b1-fdf9-46e9-82d9-f467abdd3f35",
   "metadata": {
    "tags": []
   },
   "outputs": [
    {
     "name": "stdout",
     "output_type": "stream",
     "text": [
      "[{'title': 'San Francisco weather in December 2025 - Weather25.com', 'url': 'https://www.weather25.com/north-america/usa/california/san-francisco?page=month&month=December', 'content': '| [7 ![Image 20: Moderate or heavy rain shower](https://res.weather25.com/images/weather_icons/new/day/rain-3.svg) 14°/9°](https://www.weather25.com/north-america/usa/california/san-francisco?page=past-weather#day=7&month=12 \"Weather in 7 december 2025\") | [8 ![Image 21: Overcast](https://res.weather25.com/images/weather_icons/new/day/overcast.svg) 14°/10°](https://www.weather25.com/north-america/usa/california/san-francisco?page=past-weather#day=8&month=12 \"Weather in 8 december 2025\") | [9 [...] The temperatures in San Francisco in December are quite cold with **temperatures between 8°C and 14°C**, warm clothes are a must.\\n\\nYou can expect about **3 to 8 days of rain** in San Francisco during the month of December. It’s a good idea to bring along your umbrella so that you don’t get caught in poor weather.\\n\\nOur weather forecast can give you a great sense of what weather to expect in **San Francisco in December 2025**. [...] | December | **14°** / 8° | 4 | 27 | 0 | 55 mm | Good | [San Francisco in December](https://www.weather25.com/north-america/usa/california/san-francisco?page=month&month=December) |', 'score': 0.91175514}, {'title': 'San Francisco weather in June 2025 | Weather25.com', 'url': 'https://www.weather25.com/north-america/usa/california/san-francisco?page=month&month=June', 'content': '| December | **14°** / 8° | 4 | 27 | 0 | 55 mm | Good | [San Francisco in December](https://www.weather25.com/north-america/usa/california/san-francisco?page=month&month=December) |', 'score': 0.84183896}]\n"
     ]
    }
   ],
   "source": [
    "# Import and configure the Tavily search tool\n",
    "from langchain_community.tools.tavily_search import TavilySearchResults\n",
    "\n",
    "# Create search tool instance with max 2 results per query\n",
    "search = TavilySearchResults(max_results=2)\n",
    "\n",
    "# Test the search tool directly to see its output format\n",
    "search_results = search.invoke(\"what is the weather in SF\")\n",
    "print(\n",
    ")\n",
    "\n",
    "# Additional tools can be created and added here as needed\n",
    "# Once we have all the tools we want, we put them in a list for the agent\n",
    "tools = [search]"
   ]
  },
  {
   "cell_type": "markdown",
   "id": "e00068b0",
   "metadata": {},
   "source": [
    "## Using Language Models\n",
    "\n",
    "Next, let's learn how to use a language model to call tools. LangChain supports many different language models that you can use interchangably - select the one you want to use below!\n",
    "\n",
    "import ChatModelTabs from \"@theme/ChatModelTabs\";\n",
    "\n",
    "<ChatModelTabs overrideParams={{openai: {model: \"gpt-4\"}}} />\n"
   ]
  },
  {
   "cell_type": "code",
   "execution_count": 59,
   "id": "69185491",
   "metadata": {},
   "outputs": [],
   "source": [
    "# Configure alternative language model (Anthropic Claude)\n",
    "# This cell shows how to use Claude instead of OpenAI\n",
    "# Note: This is commented out in actual execution\n",
    "from langchain_openai import ChatOpenAI  # OpenAI's language model interface\n",
    "\n",
    "# Initialize Claude-3 Sonnet model\n",
    "model = ChatOpenAI(model=\"gpt-4o-mini\")"
   ]
  },
  {
   "cell_type": "markdown",
   "id": "642ed8bf",
   "metadata": {},
   "source": [
    "You can call the language model by passing in a list of messages. By default, the response is a `content` string."
   ]
  },
  {
   "cell_type": "code",
   "execution_count": 62,
   "id": "c96c960b",
   "metadata": {
    "tags": []
   },
   "outputs": [
    {
     "data": {
      "text/plain": [
       "'Hello! How can I assist you today?'"
      ]
     },
     "execution_count": 62,
     "metadata": {},
     "output_type": "execute_result"
    }
   ],
   "source": [
    "# Test basic language model interaction without tools\n",
    "from langchain_core.messages import HumanMessage\n",
    "\n",
    "# Send a simple message to the model and get response\n",
    "response = model.invoke([HumanMessage(content=\"hi!\")])\n",
    "\n",
    "# Extract and display the text content of the response\n",
    "response.content"
   ]
  },
  {
   "cell_type": "markdown",
   "id": "47bf8210",
   "metadata": {},
   "source": [
    "We can now see what it is like to enable this model to do tool calling. In order to enable that we use `.bind_tools` to give the language model knowledge of these tools"
   ]
  },
  {
   "cell_type": "code",
   "execution_count": null,
   "id": "ba692a74",
   "metadata": {
    "tags": []
   },
   "outputs": [],
   "source": [
    "# Bind tools to the language model to enable tool-calling capabilities\n",
    "# This gives the model awareness of available tools and their schemas\n",
    "model_with_tools = model.bind_tools(tools)"
   ]
  },
  {
   "cell_type": "markdown",
   "id": "fd920b69",
   "metadata": {},
   "source": [
    "We can now call the model. Let's first call it with a normal message, and see how it responds. We can look at both the `content` field as well as the `tool_calls` field."
   ]
  },
  {
   "cell_type": "code",
   "execution_count": 64,
   "id": "b6a7e925",
   "metadata": {
    "tags": []
   },
   "outputs": [
    {
     "name": "stdout",
     "output_type": "stream",
     "text": [
      "ContentString: Hello! How can I assist you today?\n",
      "ToolCalls: []\n"
     ]
    }
   ],
   "source": [
    "# Test the tool-enabled model with a non-tool requiring message\n",
    "response = model_with_tools.invoke([HumanMessage(content=\"Hi!\")])\n",
    "\n",
    "# Examine both content and tool_calls fields\n",
    "# For simple greetings, expect normal text response with no tool calls\n",
    "print(f\"ContentString: {response.content}\")\n",
    "print(f\"ToolCalls: {response.tool_calls}\")"
   ]
  },
  {
   "cell_type": "markdown",
   "id": "e8c81e76",
   "metadata": {},
   "source": [
    "Now, let's try calling it with some input that would expect a tool to be called."
   ]
  },
  {
   "cell_type": "code",
   "execution_count": 66,
   "id": "688b465d",
   "metadata": {
    "tags": []
   },
   "outputs": [
    {
     "name": "stdout",
     "output_type": "stream",
     "text": [
      "ContentString: \n",
      "ToolCalls: [{'name': 'tavily_search_results_json', 'args': {'query': 'current weather San Francisco'}, 'id': 'call_Lc1SjHmt6XYe4z6gaZydWFID', 'type': 'tool_call'}]\n"
     ]
    }
   ],
   "source": [
    "# Test the tool-enabled model with a query that requires tool usage\n",
    "response = model_with_tools.invoke([HumanMessage(content=\"What's the weather in SF?\")])\n",
    "\n",
    "# Notice how the model now:\n",
    "# 1. Has empty content (no direct text response)\n",
    "# 2. Has populated tool_calls with search query\n",
    "# This shows the model recognized the need to use the search tool\n",
    "print(f\"ContentString: {response.content}\")\n",
    "print(f\"ToolCalls: {response.tool_calls}\")"
   ]
  },
  {
   "cell_type": "markdown",
   "id": "83c4bcd3",
   "metadata": {},
   "source": [
    "We can see that there's now no text content, but there is a tool call! It wants us to call the Tavily Search tool.\n",
    "\n",
    "This isn't calling that tool yet - it's just telling us to. In order to actually call it, we'll want to create our agent."
   ]
  },
  {
   "cell_type": "markdown",
   "id": "40ccec80",
   "metadata": {},
   "source": [
    "## Create the agent\n",
    "\n",
    "Now that we have defined the tools and the LLM, we can create the agent. We will be using [LangGraph](/docs/concepts/architecture/#langgraph) to construct the agent. \n",
    "Currently, we are using a high level interface to construct the agent, but the nice thing about LangGraph is that this high-level interface is backed by a low-level, highly controllable API in case you want to modify the agent logic.\n"
   ]
  },
  {
   "cell_type": "markdown",
   "id": "f8014c9d",
   "metadata": {},
   "source": [
    "Now, we can initialize the agent with the LLM and the tools.\n",
    "\n",
    "Note that we are passing in the `model`, not `model_with_tools`. That is because `create_react_agent` will call `.bind_tools` for us under the hood."
   ]
  },
  {
   "cell_type": "code",
   "execution_count": 68,
   "id": "89cf72b4-6046-4b47-8f27-5522d8cb8036",
   "metadata": {
    "tags": []
   },
   "outputs": [],
   "source": [
    "# Create a ReAct (Reasoning and Acting) agent using LangGraph\n",
    "from langgraph.prebuilt import create_react_agent\n",
    "\n",
    "# Initialize the agent executor with:\n",
    "# - model: The language model (without pre-bound tools)\n",
    "# - tools: List of available tools (search in this case)\n",
    "# Note: create_react_agent will automatically bind tools to the model\n",
    "agent_executor = create_react_agent(model, tools)"
   ]
  },
  {
   "cell_type": "markdown",
   "id": "e4df0e06",
   "metadata": {},
   "source": [
    "## Run the agent\n",
    "\n",
    "We can now run the agent with a few queries! Note that for now, these are all **stateless** queries (it won't remember previous interactions). Note that the agent will return the **final** state at the end of the interaction (which includes any inputs, we will see later on how to get only the outputs).\n",
    "\n",
    "First up, let's see how it responds when there's no need to call a tool:"
   ]
  },
  {
   "cell_type": "code",
   "execution_count": 75,
   "id": "114ba50d",
   "metadata": {
    "tags": []
   },
   "outputs": [
    {
     "data": {
      "text/plain": [
       "[HumanMessage(content='hi!', additional_kwargs={}, response_metadata={}, id='27efca6c-b438-4074-8c26-ca7d8058afbc'),\n",
       " AIMessage(content='Hello! How can I assist you today?', additional_kwargs={'refusal': None}, response_metadata={'token_usage': {'completion_tokens': 10, 'prompt_tokens': 81, 'total_tokens': 91, 'completion_tokens_details': {'accepted_prediction_tokens': 0, 'audio_tokens': 0, 'reasoning_tokens': 0, 'rejected_prediction_tokens': 0}, 'prompt_tokens_details': {'audio_tokens': 0, 'cached_tokens': 0}}, 'model_name': 'gpt-4o-mini-2024-07-18', 'system_fingerprint': 'fp_34a54ae93c', 'finish_reason': 'stop', 'logprobs': None}, id='run--2d658eef-0273-4046-980d-b6a257297423-0', usage_metadata={'input_tokens': 81, 'output_tokens': 10, 'total_tokens': 91, 'input_token_details': {'audio': 0, 'cache_read': 0}, 'output_token_details': {'audio': 0, 'reasoning': 0}})]"
      ]
     },
     "execution_count": 75,
     "metadata": {},
     "output_type": "execute_result"
    }
   ],
   "source": [
    "# Test agent with a simple greeting (no tools needed)\n",
    "# The invoke method runs the agent synchronously and returns final state\n",
    "response = agent_executor.invoke({\"messages\": [HumanMessage(content=\"hi!\")]})\n",
    "\n",
    "# The response contains all messages in the conversation:\n",
    "# 1. Human message (input)\n",
    "# 2. AI message (response)\n",
    "# Note: No tool calls occurred since greeting doesn't require search\n",
    "response[\"messages\"]"
   ]
  },
  {
   "cell_type": "markdown",
   "id": "71493a42",
   "metadata": {},
   "source": [
    "In order to see exactly what is happening under the hood (and to make sure it's not calling a tool) we can take a look at the [LangSmith trace](https://smith.langchain.com/public/28311faa-e135-4d6a-ab6b-caecf6482aaa/r)\n",
    "\n",
    "Let's now try it out on an example where it should be invoking the tool"
   ]
  },
  {
   "cell_type": "code",
   "execution_count": 77,
   "id": "77c2f769",
   "metadata": {
    "tags": []
   },
   "outputs": [
    {
     "data": {
      "text/plain": [
       "[HumanMessage(content='whats the weather in sf?', additional_kwargs={}, response_metadata={}, id='8bda8f97-abba-426b-a492-d0eef994c1eb'),\n",
       " AIMessage(content='', additional_kwargs={'tool_calls': [{'id': 'call_d5sfNpAbqaUxsvVUyuoH7YLt', 'function': {'arguments': '{\"query\":\"San Francisco weather\"}', 'name': 'tavily_search_results_json'}, 'type': 'function'}], 'refusal': None}, response_metadata={'token_usage': {'completion_tokens': 20, 'prompt_tokens': 86, 'total_tokens': 106, 'completion_tokens_details': {'accepted_prediction_tokens': 0, 'audio_tokens': 0, 'reasoning_tokens': 0, 'rejected_prediction_tokens': 0}, 'prompt_tokens_details': {'audio_tokens': 0, 'cached_tokens': 0}}, 'model_name': 'gpt-4o-mini-2024-07-18', 'system_fingerprint': 'fp_34a54ae93c', 'finish_reason': 'tool_calls', 'logprobs': None}, id='run--1cbf92bc-d826-4053-b995-3136e6005c6d-0', tool_calls=[{'name': 'tavily_search_results_json', 'args': {'query': 'San Francisco weather'}, 'id': 'call_d5sfNpAbqaUxsvVUyuoH7YLt', 'type': 'tool_call'}], usage_metadata={'input_tokens': 86, 'output_tokens': 20, 'total_tokens': 106, 'input_token_details': {'audio': 0, 'cache_read': 0}, 'output_token_details': {'audio': 0, 'reasoning': 0}}),\n",
       " ToolMessage(content='[{\"title\": \"San Francisco weather in June 2025 | Weather25.com\", \"url\": \"https://www.weather25.com/north-america/usa/california/san-francisco?page=month&month=June\", \"content\": \"| December | **14°** / 8° | 4 | 27 | 0 | 55 mm | Good | [San Francisco in December](https://www.weather25.com/north-america/usa/california/san-francisco?page=month&month=December) | [...] Mist](https://res.weather25.com/images/weather_icons/new/day/mist.svg) 14°/11°](https://www.weather25.com/north-america/usa/california/san-francisco?page=tomorrow \\\\\"Weather in 12 june 2025\\\\\") | [13 ![Image 40: Fog](https://res.weather25.com/images/weather_icons/new/day/fog.svg) 14°/10°](https://www.weather25.com/north-america/usa/california/san-francisco?page=day#date=2025-06-13 \\\\\"Weather in 13 june 2025\\\\\") | [14 ![Image 41: Fog](https://res.weather25.com/images/weather_icons/new/day/fog.svg) [...] Weather in San Francisco in June - FAQ\\\\n--------------------------------------\\\\n\\\\nWhat is the average temperature in San Francisco in June?\\\\n\\\\nThe average temperature in San Francisco in June is 12/23° C.\\\\n\\\\nWhat is the chance of rain in San Francisco in June?\\\\n\\\\nOn average, there are 0 rainy days in San Francisco during June.\\\\n\\\\nWeather wise, is June a good time to visit San Francisco?\\\\n\\\\nThe weather in San Francisco in June is perfect.\\\\n\\\\nCan it snow in San Francisco in June?\", \"score\": 0.8335554}, {\"title\": \"San Francisco, CA Monthly Weather - AccuWeather\", \"url\": \"https://www.accuweather.com/en/us/san-francisco/94103/june-weather/347629\", \"content\": \".com/en/us/san-francisco/94103/november-weather/347629?year=2025)[December](https://www.accuweather.com/en/us/san-francisco/94103/december-weather/347629?year=2025) [...] 1 60° 52°2 65° 52°3 66° 55°4 64° 53°5 65° 55°6 65° 56°7 61° 54°8 60° 54°9 58° 53°10 59° 53°[11 59° 53°](https://www.accuweather.com/en/us/san-francisco/94103/weather-today/347629)[12 64° 53°](https://www.accuweather.com/en/us/san-francisco/94103/weather-tomorrow/347629)[13 65° 52°](https://www.accuweather.com/en/us/san-francisco/94103/daily-weather-forecast/347629?day=3)[14 64° 53°](https://www.accuweather.com/en/us/san-francisco/94103/daily-weather-forecast/347629?day=4)[15 62° [...] 54°](https://www.accuweather.com/en/us/san-francisco/94103/daily-weather-forecast/347629?day=25)\", \"score\": 0.6742441}]', name='tavily_search_results_json', id='a3fb7e06-8c23-443f-925d-44a11476a38a', tool_call_id='call_d5sfNpAbqaUxsvVUyuoH7YLt', artifact={'query': 'San Francisco weather', 'follow_up_questions': None, 'answer': None, 'images': [], 'results': [{'url': 'https://www.weather25.com/north-america/usa/california/san-francisco?page=month&month=June', 'title': 'San Francisco weather in June 2025 | Weather25.com', 'content': '| December | **14°** / 8° | 4 | 27 | 0 | 55 mm | Good | [San Francisco in December](https://www.weather25.com/north-america/usa/california/san-francisco?page=month&month=December) | [...] Mist](https://res.weather25.com/images/weather_icons/new/day/mist.svg) 14°/11°](https://www.weather25.com/north-america/usa/california/san-francisco?page=tomorrow \"Weather in 12 june 2025\") | [13 ![Image 40: Fog](https://res.weather25.com/images/weather_icons/new/day/fog.svg) 14°/10°](https://www.weather25.com/north-america/usa/california/san-francisco?page=day#date=2025-06-13 \"Weather in 13 june 2025\") | [14 ![Image 41: Fog](https://res.weather25.com/images/weather_icons/new/day/fog.svg) [...] Weather in San Francisco in June - FAQ\\n--------------------------------------\\n\\nWhat is the average temperature in San Francisco in June?\\n\\nThe average temperature in San Francisco in June is 12/23° C.\\n\\nWhat is the chance of rain in San Francisco in June?\\n\\nOn average, there are 0 rainy days in San Francisco during June.\\n\\nWeather wise, is June a good time to visit San Francisco?\\n\\nThe weather in San Francisco in June is perfect.\\n\\nCan it snow in San Francisco in June?', 'score': 0.8335554, 'raw_content': None}, {'url': 'https://www.accuweather.com/en/us/san-francisco/94103/june-weather/347629', 'title': 'San Francisco, CA Monthly Weather - AccuWeather', 'content': '.com/en/us/san-francisco/94103/november-weather/347629?year=2025)[December](https://www.accuweather.com/en/us/san-francisco/94103/december-weather/347629?year=2025) [...] 1 60° 52°2 65° 52°3 66° 55°4 64° 53°5 65° 55°6 65° 56°7 61° 54°8 60° 54°9 58° 53°10 59° 53°[11 59° 53°](https://www.accuweather.com/en/us/san-francisco/94103/weather-today/347629)[12 64° 53°](https://www.accuweather.com/en/us/san-francisco/94103/weather-tomorrow/347629)[13 65° 52°](https://www.accuweather.com/en/us/san-francisco/94103/daily-weather-forecast/347629?day=3)[14 64° 53°](https://www.accuweather.com/en/us/san-francisco/94103/daily-weather-forecast/347629?day=4)[15 62° [...] 54°](https://www.accuweather.com/en/us/san-francisco/94103/daily-weather-forecast/347629?day=25)', 'score': 0.6742441, 'raw_content': None}], 'response_time': 2.15}),\n",
       " AIMessage(content=\"I couldn't find the current weather for San Francisco, but you can check reliable sources like [AccuWeather](https://www.accuweather.com/en/us/san-francisco/94103/weather-today/347629) for the latest updates.\", additional_kwargs={'refusal': None}, response_metadata={'token_usage': {'completion_tokens': 52, 'prompt_tokens': 878, 'total_tokens': 930, 'completion_tokens_details': {'accepted_prediction_tokens': 0, 'audio_tokens': 0, 'reasoning_tokens': 0, 'rejected_prediction_tokens': 0}, 'prompt_tokens_details': {'audio_tokens': 0, 'cached_tokens': 0}}, 'model_name': 'gpt-4o-mini-2024-07-18', 'system_fingerprint': 'fp_34a54ae93c', 'finish_reason': 'stop', 'logprobs': None}, id='run--5ae99915-8119-4aec-a3b5-a0eded42e016-0', usage_metadata={'input_tokens': 878, 'output_tokens': 52, 'total_tokens': 930, 'input_token_details': {'audio': 0, 'cache_read': 0}, 'output_token_details': {'audio': 0, 'reasoning': 0}})]"
      ]
     },
     "execution_count": 77,
     "metadata": {},
     "output_type": "execute_result"
    }
   ],
   "source": [
    "# Test agent with a query requiring tool usage (weather information)\n",
    "response = agent_executor.invoke(\n",
    "    {\"messages\": [HumanMessage(content=\"whats the weather in sf?\")]}\n",
    ")\n",
    "\n",
    "# The response now contains 4 messages showing the complete ReAct cycle:\n",
    "# 1. HumanMessage: User's weather query\n",
    "# 2. AIMessage: Agent decides to use search tool (tool_calls populated)\n",
    "# 3. ToolMessage: Search results from Tavily API\n",
    "# 4. AIMessage: Agent synthesizes final answer from search results\n",
    "response[\"messages\"]"
   ]
  },
  {
   "cell_type": "markdown",
   "id": "c174f838",
   "metadata": {},
   "source": [
    "We can check out the [LangSmith trace](https://smith.langchain.com/public/f520839d-cd4d-4495-8764-e32b548e235d/r) to make sure it's calling the search tool effectively."
   ]
  },
  {
   "cell_type": "markdown",
   "id": "8f6ca7e4",
   "metadata": {},
   "source": [
    "## Streaming Messages\n",
    "\n",
    "We've seen how the agent can be called with `.invoke` to get  a final response. If the agent executes multiple steps, this may take a while. To show intermediate progress, we can stream back messages as they occur."
   ]
  },
  {
   "cell_type": "code",
   "execution_count": 79,
   "id": "bd93812b-2350-4d7f-9643-34c753503754",
   "metadata": {
    "tags": []
   },
   "outputs": [
    {
     "name": "stdout",
     "output_type": "stream",
     "text": [
      "================================\u001b[1m Human Message \u001b[0m=================================\n",
      "\n",
      "whats the weather in sf?\n",
      "==================================\u001b[1m Ai Message \u001b[0m==================================\n",
      "Tool Calls:\n",
      "  tavily_search_results_json (call_9M13tm95oNGksicoBSij5u89)\n",
      " Call ID: call_9M13tm95oNGksicoBSij5u89\n",
      "  Args:\n",
      "    query: current weather in San Francisco\n",
      "=================================\u001b[1m Tool Message \u001b[0m=================================\n",
      "Name: tavily_search_results_json\n",
      "\n",
      "[{\"title\": \"San Francisco weather in December 2025 - Weather25.com\", \"url\": \"https://www.weather25.com/north-america/usa/california/san-francisco?page=month&month=December\", \"content\": \"The temperatures in San Francisco in December are quite cold with temperatures between 46°F and 57°F, warm clothes are a must.\", \"score\": 0.85967577}, {\"title\": \"San Francisco weather in June 2025 | Weather25.com\", \"url\": \"https://www.weather25.com/north-america/usa/california/san-francisco?page=month&month=June\", \"content\": \"| December | **14°** / 8° | 4 | 27 | 0 | 55 mm | Good | [San Francisco in December](https://www.weather25.com/north-america/usa/california/san-francisco?page=month&month=December) | [...] /13°](https://www.weather25.com/north-america/usa/california/san-francisco?page=past-weather#day=11&month=6 \\\"Weather in 11 june 2025\\\") | [12 Mist 14° /11°](https://www.weather25.com/north-america/usa/california/san-francisco?page=today \\\"Weather in 12 june 2025\\\") | [13 Fog 14° /10°](https://www.weather25.com/north-america/usa/california/san-francisco?page=tomorrow \\\"Weather in 13 june 2025\\\") | [14 Fog 13° [...] ## Explore the weather in San Francisco in other months\\n\\n## San Francisco annual weather\", \"score\": 0.780947}]\n",
      "==================================\u001b[1m Ai Message \u001b[0m==================================\n",
      "\n",
      "I couldn't find the current weather for San Francisco. You might want to check a reliable weather website or app for the most up-to-date information. If you need help with something else, feel free to ask!\n"
     ]
    }
   ],
   "source": [
    "# Demonstrate streaming agent execution to show intermediate steps\n",
    "# stream_mode=\"values\" returns complete message states as they're updated\n",
    "for step in agent_executor.stream(\n",
    "    {\"messages\": [HumanMessage(content=\"whats the weather in sf?\")]},\n",
    "    stream_mode=\"values\",\n",
    "):\n",
    "    # Print each message as it becomes available:\n",
    "    # 1. First shows human message\n",
    "    # 2. Then shows AI deciding to use tool\n",
    "    # 3. Then shows tool execution results\n",
    "    # 4. Finally shows AI's synthesized response\n",
    "    step[\"messages\"][-1].pretty_print()"
   ]
  },
  {
   "cell_type": "markdown",
   "id": "c72b3043",
   "metadata": {},
   "source": [
    "## Streaming tokens\n",
    "\n",
    "In addition to streaming back messages, it is also useful to stream back tokens.\n",
    "We can do this by specifying `stream_mode=\"messages\"`.\n",
    "\n",
    "\n",
    "::: note\n",
    "\n",
    "Below we use `message.text()`, which requires `langchain-core>=0.3.37`.\n",
    "\n",
    ":::"
   ]
  },
  {
   "cell_type": "code",
   "execution_count": 81,
   "id": "63198158-380e-43a3-a2ad-d4288949c1d4",
   "metadata": {
    "tags": []
   },
   "outputs": [
    {
     "name": "stdout",
     "output_type": "stream",
     "text": [
      "I| couldn't| find| the| current| weather| for| San| Francisco| directly|.| However|,| you| can| check| out| detailed| weather| forecasts| on| sites| like| [|Weather|25|](|https|://|www|.weather|25|.com|/n|orth|-amer|ica|/|usa|/cal|ifornia|/s|an|-fr|anc|isco|)| for| the| latest| updates|.| If| you| need| more| specific| information| or| a| different| source|,| let| me| know|!|"
     ]
    }
   ],
   "source": [
    "# Demonstrate token-level streaming for real-time response generation\n",
    "# stream_mode=\"messages\" provides individual message chunks as they're generated\n",
    "for step, metadata in agent_executor.stream(\n",
    "    {\"messages\": [HumanMessage(content=\"whats the weather in sf?\")]},\n",
    "    stream_mode=\"messages\",\n",
    "):\n",
    "    # Filter to only show text tokens from the agent's final response\n",
    "    # langgraph_node=\"agent\" ensures we only see the LLM's output, not tool calls\n",
    "    if metadata[\"langgraph_node\"] == \"agent\" and (text := step.text()):\n",
    "        # Print each token as it's generated, separated by | for visibility\n",
    "        print(text, end=\"|\")"
   ]
  },
  {
   "cell_type": "markdown",
   "id": "022cbc8a",
   "metadata": {},
   "source": [
    "## Adding in memory\n",
    "\n",
    "As mentioned earlier, this agent is stateless. This means it does not remember previous interactions. To give it memory we need to pass in a checkpointer. When passing in a checkpointer, we also have to pass in a `thread_id` when invoking the agent (so it knows which thread/conversation to resume from)."
   ]
  },
  {
   "cell_type": "code",
   "execution_count": 83,
   "id": "c4073e35",
   "metadata": {
    "tags": []
   },
   "outputs": [],
   "source": [
    "# Initialize memory system for conversation persistence\n",
    "from langgraph.checkpoint.memory import MemorySaver\n",
    "\n",
    "# MemorySaver stores conversation state in memory (lost when session ends)\n",
    "# For production, consider using persistent storage like SQLite or Redis\n",
    "memory = MemorySaver()"
   ]
  },
  {
   "cell_type": "code",
   "execution_count": 85,
   "id": "e64a944e-f9ac-43cf-903c-d3d28d765377",
   "metadata": {
    "tags": []
   },
   "outputs": [],
   "source": [
    "# Recreate agent with memory capabilities\n",
    "agent_executor = create_react_agent(model, tools, checkpointer=memory)\n",
    "\n",
    "# Configure conversation thread ID for memory persistence\n",
    "# Same thread_id = same conversation; different thread_id = new conversation\n",
    "config = {\"configurable\": {\"thread_id\": \"abc123\"}}"
   ]
  },
  {
   "cell_type": "code",
   "execution_count": 87,
   "id": "a13462d0-2d02-4474-921e-15a1ba1fa274",
   "metadata": {
    "tags": []
   },
   "outputs": [
    {
     "name": "stdout",
     "output_type": "stream",
     "text": [
      "{'agent': {'messages': [AIMessage(content='Hello Chadi! How can I assist you today?', additional_kwargs={'refusal': None}, response_metadata={'token_usage': {'completion_tokens': 12, 'prompt_tokens': 84, 'total_tokens': 96, 'completion_tokens_details': {'accepted_prediction_tokens': 0, 'audio_tokens': 0, 'reasoning_tokens': 0, 'rejected_prediction_tokens': 0}, 'prompt_tokens_details': {'audio_tokens': 0, 'cached_tokens': 0}}, 'model_name': 'gpt-4o-mini-2024-07-18', 'system_fingerprint': 'fp_34a54ae93c', 'finish_reason': 'stop', 'logprobs': None}, id='run--f3e4c370-5e57-44fe-89a7-b30863d77a49-0', usage_metadata={'input_tokens': 84, 'output_tokens': 12, 'total_tokens': 96, 'input_token_details': {'audio': 0, 'cache_read': 0}, 'output_token_details': {'audio': 0, 'reasoning': 0}})]}}\n",
      "----\n"
     ]
    }
   ],
   "source": [
    "# Test memory functionality by introducing the agent to a user\n",
    "# This information should be remembered for subsequent interactions\n",
    "for chunk in agent_executor.stream(\n",
    "    {\"messages\": [HumanMessage(content=\"hi im chadi!\")]}, config\n",
    "):\n",
    "    # Display each step of the agent's response\n",
    "    # Agent acknowledges the introduction and stores the name \"Bob\"\n",
    "    print(chunk)\n",
    "    print(\"----\")"
   ]
  },
  {
   "cell_type": "code",
   "execution_count": 89,
   "id": "56d8028b-5dbc-40b2-86f5-ed60631d86a3",
   "metadata": {
    "tags": []
   },
   "outputs": [
    {
     "name": "stdout",
     "output_type": "stream",
     "text": [
      "{'agent': {'messages': [AIMessage(content='Your name is Chadi! How can I help you today?', additional_kwargs={'refusal': None}, response_metadata={'token_usage': {'completion_tokens': 14, 'prompt_tokens': 108, 'total_tokens': 122, 'completion_tokens_details': {'accepted_prediction_tokens': 0, 'audio_tokens': 0, 'reasoning_tokens': 0, 'rejected_prediction_tokens': 0}, 'prompt_tokens_details': {'audio_tokens': 0, 'cached_tokens': 0}}, 'model_name': 'gpt-4o-mini-2024-07-18', 'system_fingerprint': 'fp_34a54ae93c', 'finish_reason': 'stop', 'logprobs': None}, id='run--c6ff644d-6f3d-488f-84ad-c134a5f8fefa-0', usage_metadata={'input_tokens': 108, 'output_tokens': 14, 'total_tokens': 122, 'input_token_details': {'audio': 0, 'cache_read': 0}, 'output_token_details': {'audio': 0, 'reasoning': 0}})]}}\n",
      "----\n"
     ]
    }
   ],
   "source": [
    "# Test memory recall by asking the agent about previously shared information\n",
    "# Using the same config (thread_id) ensures conversation continuity\n",
    "for chunk in agent_executor.stream(\n",
    "    {\"messages\": [HumanMessage(content=\"whats my name?\")]}, config\n",
    "):\n",
    "    # Agent successfully recalls the name \"Bob\" from previous interaction\n",
    "    # This demonstrates working conversational memory\n",
    "    print(chunk)\n",
    "    print(\"----\")"
   ]
  },
  {
   "cell_type": "markdown",
   "id": "ae908088",
   "metadata": {},
   "source": [
    "If you want to start a new conversation, all you have to do is change the `thread_id` used"
   ]
  },
  {
   "cell_type": "code",
   "execution_count": 91,
   "id": "24460239",
   "metadata": {
    "tags": []
   },
   "outputs": [
    {
     "name": "stdout",
     "output_type": "stream",
     "text": [
      "{'agent': {'messages': [AIMessage(content=\"I'm sorry, but I don't have access to personal information about you unless you provide it. How can I assist you today?\", additional_kwargs={'refusal': None}, response_metadata={'token_usage': {'completion_tokens': 26, 'prompt_tokens': 84, 'total_tokens': 110, 'completion_tokens_details': {'accepted_prediction_tokens': 0, 'audio_tokens': 0, 'reasoning_tokens': 0, 'rejected_prediction_tokens': 0}, 'prompt_tokens_details': {'audio_tokens': 0, 'cached_tokens': 0}}, 'model_name': 'gpt-4o-mini-2024-07-18', 'system_fingerprint': 'fp_34a54ae93c', 'finish_reason': 'stop', 'logprobs': None}, id='run--f9013d6c-451d-4188-bed6-a545e7893058-0', usage_metadata={'input_tokens': 84, 'output_tokens': 26, 'total_tokens': 110, 'input_token_details': {'audio': 0, 'cache_read': 0}, 'output_token_details': {'audio': 0, 'reasoning': 0}})]}}\n",
      "----\n"
     ]
    }
   ],
   "source": [
    "# Demonstrate conversation isolation with a different thread_id\n",
    "# New thread = fresh conversation with no memory of previous interactions\n",
    "config = {\"configurable\": {\"thread_id\": \"xyz123\"}}\n",
    "\n",
    "for chunk in agent_executor.stream(\n",
    "    {\"messages\": [HumanMessage(content=\"whats my name?\")]}, config\n",
    "):\n",
    "    # Agent doesn't know the name since this is a different conversation thread\n",
    "    # This proves memory isolation between different thread_ids\n",
    "    print(chunk)\n",
    "    print(\"----\")"
   ]
  },
  {
   "cell_type": "markdown",
   "id": "c029798f",
   "metadata": {},
   "source": [
    "## Conclusion\n",
    "\n",
    "That's a wrap! In this quick start we covered how to create a simple agent. \n",
    "We've then shown how to stream back a response - not only with the intermediate steps, but also tokens!\n",
    "We've also added in memory so you can have a conversation with them.\n",
    "Agents are a complex topic with lots to learn! \n",
    "\n",
    "For more information on Agents, please check out the [LangGraph](/docs/concepts/architecture/#langgraph) documentation. This has it's own set of concepts, tutorials, and how-to guides."
   ]
  },
  {
   "cell_type": "code",
   "execution_count": null,
   "id": "e3ec3244",
   "metadata": {},
   "outputs": [],
   "source": [
    "# This empty cell can be used for additional experimentation\n",
    "# Try adding more tools, testing different queries, or exploring agent configurations"
   ]
  }
 ],
 "metadata": {
  "kernelspec": {
   "display_name": "Python 3 (ipykernel)",
   "language": "python",
   "name": "python3"
  },
  "language_info": {
   "codemirror_mode": {
    "name": "ipython",
    "version": 3
   },
   "file_extension": ".py",
   "mimetype": "text/x-python",
   "name": "python",
   "nbconvert_exporter": "python",
   "pygments_lexer": "ipython3",
   "version": "3.11.7"
  }
 },
 "nbformat": 4,
 "nbformat_minor": 5
}
